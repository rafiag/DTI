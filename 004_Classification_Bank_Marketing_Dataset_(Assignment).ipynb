{
  "nbformat": 4,
  "nbformat_minor": 0,
  "metadata": {
    "colab": {
      "name": "004_Classification - Bank Marketing Dataset (Assignment).ipynb",
      "provenance": [],
      "collapsed_sections": [],
      "toc_visible": true,
      "authorship_tag": "ABX9TyPQYEovazF1skxIB1RFPKby",
      "include_colab_link": true
    },
    "kernelspec": {
      "name": "python3",
      "display_name": "Python 3"
    }
  },
  "cells": [
    {
      "cell_type": "markdown",
      "metadata": {
        "id": "view-in-github",
        "colab_type": "text"
      },
      "source": [
        "<a href=\"https://colab.research.google.com/github/rafiag/DTI2020/blob/main/004_Classification_Bank_Marketing_Dataset_(Assignment).ipynb\" target=\"_parent\"><img src=\"https://colab.research.google.com/assets/colab-badge.svg\" alt=\"Open In Colab\"/></a>"
      ]
    },
    {
      "cell_type": "markdown",
      "metadata": {
        "id": "xL-Nk3m_eQsX"
      },
      "source": [
        "# Introduction\n",
        "\n",
        "In machine  learning  and statistics,  classification  is the problem  of identifying  to which  of a set of categories (sub-populations)  a new observation  belongs,  based  on a training  set of data containing observations  (or instances)  whose  category membership  is known. Examples of classification problems are assigning  a given email to the \"spam\" or \"non-spam\" class, and assigning  a diagnosis  to a given patient  based  on observed  characteristics  of the patient  (sex,  blood pressure, presence  or absence of certain symptoms, etc.)\n",
        "\n",
        "In this notebook we will use the [Bank Marketing Dataset](https://www.kaggle.com/janiobachmann/bank-marketing-dataset) from Kaggle to build a model to predict whether someone is going to make a deposit or not depending on some attributes. We wiill try to build 4 models using different algorithm Decision Tree, Random Forest, Naive Bayes, and K-Nearest Neighbors. After building each model we will evalueate them and compare which model are the best for our case. We will then try to optimze our model by tuning the hyper paramters of the model by using GridSearch. Lastly, we will save the prediction result from our dataset and then save our model for reussability.\n",
        "\n",
        "To start we will load some basic libraries such as Pandas and NumPy and then make some configuration to some of those libraries."
      ]
    },
    {
      "cell_type": "code",
      "metadata": {
        "id": "uI1mGf-RdvlD"
      },
      "source": [
        "# Import libraries\n",
        "## Basic libs\n",
        "import pandas as pd\n",
        "import numpy as np\n",
        "import warnings\n",
        "## Data Visualization\n",
        "import seaborn as sns\n",
        "import matplotlib.pyplot as plt\n",
        "\n",
        "# Configure libraries\n",
        "warnings.filterwarnings('ignore')\n",
        "plt.rcParams['figure.figsize'] = (10, 10)\n",
        "plt.style.use('seaborn')"
      ],
      "execution_count": null,
      "outputs": []
    },
    {
      "cell_type": "markdown",
      "metadata": {
        "id": "1Ml3cXrzkuZ0"
      },
      "source": [
        "# Data Pre-Processing\n",
        "\n",
        "Before we can begin to create our first model we first need to load and pre-process. This step ensure that our model will receive a good data to learn from, as they said \"a model is only as good as it's data\". The data pre-processing will be divided into few steps as explained below."
      ]
    },
    {
      "cell_type": "markdown",
      "metadata": {
        "id": "Yf8uFbzy57qd"
      },
      "source": [
        "## Loading data\n",
        "\n",
        "In this first step we will load our dataset that has been uploaded on my GitHub for easier process. From the dataset documentation found [here](https://archive.ics.uci.edu/ml/datasets/Bank+Marketing) we can see below are the list of column we have in our data:\n",
        "\n",
        "Input variables:\n",
        "1. age (numeric)\n",
        "2. job : type of job (categorical: 'admin.','blue-collar','entrepreneur','housemaid','management','retired','self-employed','services','student','technician','unemployed','unknown')\n",
        "3. marital : marital status (categorical: 'divorced','married','single','unknown'; note: 'divorced' means divorced or widowed)\n",
        "4. education (categorical: 'basic.4y','basic.6y','basic.9y','high.school','illiterate','professional.course','university.degree','unknown')\n",
        "5. default: has credit in default? (categorical: 'no','yes','unknown')\n",
        "6. housing: has housing loan? (categorical: 'no','yes','unknown')\n",
        "7. loan: has personal loan? (categorical: 'no','yes','unknown')\n",
        "8. contact: contact communication type (categorical: 'cellular','telephone')\n",
        "9. month: last contact month of year (categorical: 'jan', 'feb', 'mar', ..., 'nov', 'dec')\n",
        "10. day_of_week: last contact day of the week (categorical: 'mon','tue','wed','thu','fri')\n",
        "11. duration: last contact duration, in seconds (numeric). Important note: this attribute highly affects the output target (e.g., if duration=0 then y='no'). Yet, the duration is not known before a call is performed. Also, after the end of the call y is obviously known. Thus, this input should only be included for benchmark purposes and should be discarded if the intention is to have a realistic predictive model.\n",
        "12. campaign: number of contacts performed during this campaign and for this client (numeric, includes last contact)\n",
        "13. pdays: number of days that passed by after the client was last contacted from a previous campaign (numeric; 999 means client was not previously contacted)\n",
        "14. previous: number of contacts performed before this campaign and for this client (numeric)\n",
        "15. poutcome: outcome of the previous marketing campaign (categorical: 'failure','nonexistent','success')\n",
        "\n",
        "Output variable (desired target):\n",
        "21. y. has the client subscribed a term deposit? (binary: 'yes','no')\n",
        "\n",
        "According to the dataset documentation, we need to remove the 'duration' column because in real-case the duration is only known after the label column is known. This problem can be considered to be 'data leakage' where predictors include data that will not be available at the time you make predictions."
      ]
    },
    {
      "cell_type": "code",
      "metadata": {
        "id": "qkY0_i5O586w"
      },
      "source": [
        "# Load dataset\n",
        "df_bank = pd.read_csv('https://raw.githubusercontent.com/rafiag/DTI2020/main/data/bank.csv')\n",
        "\n",
        "# Drop 'duration' column\n",
        "df_bank = df_bank.drop('duration', axis=1)\n",
        "\n",
        "# print(df_bank.info())\n",
        "print('Shape of dataframe:', df_bank.shape)\n",
        "df_bank.head()"
      ],
      "execution_count": null,
      "outputs": []
    },
    {
      "cell_type": "markdown",
      "metadata": {
        "id": "mzRRMcUkB7Ch"
      },
      "source": [
        "## Class Distribution\n",
        "\n",
        "Another important thing to make sure before feeding our data into the model is the class distribution of the data. In our case where the expected class are divided into two outcome, 'yes' and 'no', a class distribution of 50:50 can be considered ideal."
      ]
    },
    {
      "cell_type": "code",
      "metadata": {
        "id": "bP1q5SGTF3S-"
      },
      "source": [
        "df_bank['deposit'].value_counts()"
      ],
      "execution_count": null,
      "outputs": []
    },
    {
      "cell_type": "markdown",
      "metadata": {
        "id": "2qAv5u5WBzKa"
      },
      "source": [
        "As we can see our class distribution is more or less similar, not exactly 50:50 distribution but still good enough."
      ]
    },
    {
      "cell_type": "markdown",
      "metadata": {
        "id": "OKOO_Qj6odGa"
      },
      "source": [
        "## Missing Values\n",
        "\n",
        "Last thing to check before moving on is missing values. In some case our data might have missing values in some column, this can be caused some reasons such as human error. We can use the `is_null()` function from Pandas to check for any missing data and then use the `sum()` function to see the total of missing values in each column."
      ]
    },
    {
      "cell_type": "code",
      "metadata": {
        "id": "Rz75ZKRIoWdK"
      },
      "source": [
        "df_bank.isnull().sum()"
      ],
      "execution_count": null,
      "outputs": []
    },
    {
      "cell_type": "markdown",
      "metadata": {
        "id": "-on1EChPDf0N"
      },
      "source": [
        "From the result we can be assured that our data have no missing value and are good to go. In the case where you did have missing value in your data you can solve it by doing imputation or just remove the column altogether depending on your case. [Here](https://www.kaggle.com/dansbecker/handling-missing-values) is a good Kaggle course on how to handle missing value in dataset."
      ]
    },
    {
      "cell_type": "markdown",
      "metadata": {
        "id": "oOwTQen_ojsR"
      },
      "source": [
        "## Scale Numeric Data\n",
        "\n",
        "Next up, we will scale our numerical data to avoid outlier presence that can significantly affect our model. Using `StandardScaler()` function from sklearn we can scale each our columns that contains numerical data. The scaling will be done using the formula below:\n",
        "\n",
        "<div align=\"center\">$Z = \\frac{X - U}{S}$</div>\n",
        "\n",
        "*Where:*\n",
        "\n",
        "*$Z:$ scaled value*\n",
        "\n",
        "*$X:$ original value*\n",
        "\n",
        "*$U:$ mean of the data*\n",
        "\n",
        "*$S:$ standard deviation of the data*"
      ]
    },
    {
      "cell_type": "code",
      "metadata": {
        "id": "A61QD58UkzFh"
      },
      "source": [
        "from sklearn.preprocessing import StandardScaler\n",
        "\n",
        "# Copying original dataframe\n",
        "df_bank_ready = df_bank.copy()\n",
        "\n",
        "scaler = StandardScaler()\n",
        "num_cols = ['age', 'balance', 'day', 'campaign', 'pdays', 'previous']\n",
        "df_bank_ready[num_cols] = scaler.fit_transform(df_bank_ready[num_cols])\n",
        "\n",
        "df_bank_ready.head()"
      ],
      "execution_count": null,
      "outputs": []
    },
    {
      "cell_type": "markdown",
      "metadata": {
        "id": "3QBED_6Oo0A5"
      },
      "source": [
        "## Encode Categorical Value\n",
        "\n",
        "Same as the numerical data, we also need to pre-process our categorical data from words to number to make it easier for the computer to understands. To do this we will use `OneHotEncoder()` provided by sklearn. Basically it will transform a categorical column from this:\n",
        "\n",
        "| marital | housing |\n",
        "|----------|---------|\n",
        "| single   | yes     |\n",
        "| divorced | no      |\n",
        "| married  | no      |\n",
        "\n",
        "...into something like this...\n",
        "\n",
        "| marital_single | marital_divorced | marital_married | housing_yes | housing_no |\n",
        "|----------------|------------------|-----------------|-------------|------------|\n",
        "| 1              | 0                | 0               | 1           | 0          |\n",
        "| 0              | 1                | 0               | 0           | 1          |\n",
        "| 0              | 0                | 1               | 0           | 1          |\n",
        "\n",
        "In this code cell we will also encode our label column by replacing 'yes' and 'no' with 1 and 0 respectively. We can do this by applying simple lambda/in-line function on the column."
      ]
    },
    {
      "cell_type": "code",
      "metadata": {
        "id": "Mp_cy8dCo-sL"
      },
      "source": [
        "from sklearn.preprocessing import OneHotEncoder\n",
        "\n",
        "encoder = OneHotEncoder(sparse=False)\n",
        "cat_cols = ['job', 'marital', 'education', 'default', 'housing', 'loan', 'contact', 'month', 'poutcome']\n",
        "\n",
        "# Encode Categorical Data\n",
        "df_encoded = pd.DataFrame(encoder.fit_transform(df_bank_ready[cat_cols]))\n",
        "df_encoded.columns = encoder.get_feature_names(cat_cols)\n",
        "\n",
        "# Replace Categotical Data with Encoded Data\n",
        "df_bank_ready = df_bank_ready.drop(cat_cols ,axis=1)\n",
        "df_bank_ready = pd.concat([df_encoded, df_bank_ready], axis=1)\n",
        "\n",
        "# Encode target value\n",
        "df_bank_ready['deposit'] = df_bank_ready['deposit'].apply(lambda x: 1 if x == 'yes' else 0)\n",
        "\n",
        "print('Shape of dataframe:', df_bank_ready.shape)\n",
        "df_bank_ready.head()"
      ],
      "execution_count": null,
      "outputs": []
    },
    {
      "cell_type": "markdown",
      "metadata": {
        "id": "Xsl1BqVh8whF"
      },
      "source": [
        "## Split Dataset for Training and Testing\n",
        "\n",
        "To finish up our data pre-processing steps we will split our data into two dataset, training and testing. In this case because we have enough data we will split the data with ratio of 80:20 for training and testing respectively. This will result in our training data having 8929 rows and 2233 rows for the testing data."
      ]
    },
    {
      "cell_type": "code",
      "metadata": {
        "id": "a58WrxCd85tg"
      },
      "source": [
        "# Select Features\n",
        "feature = df_bank_ready.drop('deposit', axis=1)\n",
        "\n",
        "# Select Target\n",
        "target = df_bank_ready['deposit']\n",
        "\n",
        "# Set Training and Testing Data\n",
        "from sklearn.model_selection import train_test_split\n",
        "X_train, X_test, y_train, y_test = train_test_split(feature , target, \n",
        "                                                    shuffle = True, \n",
        "                                                    test_size=0.2, \n",
        "                                                    random_state=1)\n",
        "\n",
        "# Show the Training and Testing Data\n",
        "print('Shape of training feature:', X_train.shape)\n",
        "print('Shape of testing feature:', X_test.shape)\n",
        "print('Shape of training label:', y_train.shape)\n",
        "print('Shape of training label:', y_test.shape)"
      ],
      "execution_count": null,
      "outputs": []
    },
    {
      "cell_type": "markdown",
      "metadata": {
        "id": "LQ2dMsd099pF"
      },
      "source": [
        "# Modelling\n",
        "\n",
        "After making sure our data is good and ready we can continue to building our model. In this notebook we will try to build 4 different models with different algorithm. In this step we will create a baseline model for each algorithm using the default paramaeters set by sklearn and after building all 4 of our models we will compare them to see which works best for our case.\n",
        "\n",
        "To evaluate our model we will use the confusion matrix as our base for the evaluation.\n",
        "\n",
        "<div align='center'><img src='https://miro.medium.com/max/2102/1*fxiTNIgOyvAombPJx5KGeA.png' height='250'></div>\n",
        "where: TP = True Positive; FP = False Positive; TN = True Negative; FN = False Negative.\n",
        "\n",
        "We will use 6 metrics below to evaluate models:\n",
        "\n",
        "1. Accuracy: the proportion of true results among the total number of cases examined.\n",
        "<div align='center'>$Accuracy = \\frac{TP+TN}{TP+TN+FP+FN}$</div>\n",
        "2. Precision: used to calculate how much proportion of all data that was predicted positive **was** actually positive.\n",
        "<div align='center'>$Precision = \\frac{TP}{TP+FP}$</div>\n",
        "3. Recall: used to calculate how much proportion of actual positives is correctly classified.\n",
        "<div align='center'>$Recall = \\frac{TP}{TP+FN}$</div>\n",
        "4. F1 score: a number between 0 and 1 and is the harmonic mean of precision and recall.\n",
        "<div align='center'>$F1 = \\frac{2TP}{2TP+FP+FN}$</div>\n",
        "5. Cohen Kappa Score: Cohen's kappa measures the agreement between two raters who each classify N items into C mutually exclusive categories.\n",
        "<div align='center'>$\\kappa = \\frac{p_o-p_e}{1-p_e}$</div>\n",
        "    where $p_o$ is the empirical probability of agreement on the label assigned to any sample (the observed agreement ratio), and $p_e$ is the expected agreement when both annotators assign labels randomly. $p_e$ is estimated using a per-annotator empirical prior over the class labels.\n",
        "6. Area Under Curve (AUC): indicates how well the probabilities from the positive classes are separated from the negative classes\n",
        "\n",
        "In this case we want to focus on the recall value of our model because in our problem we should try to predict as many actual positive as we can. Because a misclassification of customer who **actually** wanted to make a deposit can mean a lose opportunity/revenue.\n",
        "\n",
        "Below we will define a helper function to evaluate each trained model and with the metrics mentioned above and save the score to a variable."
      ]
    },
    {
      "cell_type": "code",
      "metadata": {
        "id": "IHBllCJJThEz"
      },
      "source": [
        "def evaluate_model(model, x_test, y_test):\r\n",
        "    from sklearn import metrics\r\n",
        "\r\n",
        "    # Predict Test Data \r\n",
        "    y_pred = model.predict(x_test)\r\n",
        "\r\n",
        "    # Calculate accuracy, precision, recall, f1-score, and kappa score\r\n",
        "    acc = metrics.accuracy_score(y_test, y_pred)\r\n",
        "    prec = metrics.precision_score(y_test, y_pred)\r\n",
        "    rec = metrics.recall_score(y_test, y_pred)\r\n",
        "    f1 = metrics.f1_score(y_test, y_pred)\r\n",
        "    kappa = metrics.cohen_kappa_score(y_test, y_pred)\r\n",
        "\r\n",
        "    # Calculate area under curve (AUC)\r\n",
        "    y_pred_proba = model.predict_proba(x_test)[::,1]\r\n",
        "    fpr, tpr, _ = metrics.roc_curve(y_test, y_pred_proba)\r\n",
        "    auc = metrics.roc_auc_score(y_test, y_pred_proba)\r\n",
        "\r\n",
        "    # Display confussion matrix\r\n",
        "    cm = metrics.confusion_matrix(y_test, y_pred)\r\n",
        "\r\n",
        "    return {'acc': acc, 'prec': prec, 'rec': rec, 'f1': f1, 'kappa': kappa, \r\n",
        "            'fpr': fpr, 'tpr': tpr, 'auc': auc, 'cm': cm}"
      ],
      "execution_count": null,
      "outputs": []
    },
    {
      "cell_type": "markdown",
      "metadata": {
        "id": "EaZF4K139-t2"
      },
      "source": [
        "## Decision Tree\n",
        "\n",
        "Decision tree is a tree shaped diagram used to determine a course of action. Each branch of the tree represents a possible decision, occurrence or reaction.\n",
        "\n",
        "<div align='center'><img src='https://raw.githubusercontent.com/rafiag/DTI2020/main/images/decision_tree.PNG' height='250'></div>\n",
        "\n",
        "Advantages:\n",
        "* Inexpensive to construct\n",
        "* Extremely fast at classifying unknown records\n",
        "* Easy to interpret for small-sized trees•\n",
        "* Accuracy is comparable to other classification techniques for many simple data sets\n",
        "\n",
        "Disadvantages:\n",
        "* Overfitting when algorithm capture noise in the data\n",
        "* The model can get unstable due to small variation of data\n",
        "* Low biased tree: difficult for the model to work with new data"
      ]
    },
    {
      "cell_type": "markdown",
      "metadata": {
        "id": "FKajNYts-Stx"
      },
      "source": [
        "### Building Model"
      ]
    },
    {
      "cell_type": "code",
      "metadata": {
        "id": "qYHlOT8S-YqX"
      },
      "source": [
        "from sklearn import tree\n",
        "\n",
        "# Building Decision Tree model \n",
        "dtc = tree.DecisionTreeClassifier(random_state=0)\n",
        "dtc.fit(X_train, y_train)"
      ],
      "execution_count": null,
      "outputs": []
    },
    {
      "cell_type": "markdown",
      "metadata": {
        "id": "ikx3CBJ6-W0y"
      },
      "source": [
        "### Model Evaluation"
      ]
    },
    {
      "cell_type": "code",
      "metadata": {
        "id": "Rc1GvY5UTprv"
      },
      "source": [
        "# Evaluate Model\r\n",
        "dtc_eval = evaluate_model(dtc, X_test, y_test)\r\n",
        "\r\n",
        "# Print result\r\n",
        "print('Accuracy:', dtc_eval['acc'])\r\n",
        "print('Precision:', dtc_eval['prec'])\r\n",
        "print('Recall:', dtc_eval['rec'])\r\n",
        "print('F1 Score:', dtc_eval['f1'])\r\n",
        "print('Cohens Kappa Score:', dtc_eval['kappa'])\r\n",
        "print('Area Under Curve:', dtc_eval['auc'])\r\n",
        "print('Confusion Matrix:\\n', dtc_eval['cm'])"
      ],
      "execution_count": null,
      "outputs": []
    },
    {
      "cell_type": "markdown",
      "metadata": {
        "id": "S31ZWX3MD9e-"
      },
      "source": [
        "## Random Forest\n",
        "\n",
        "Random forest or Random Decision Forest is a method that operates by constructing multiple decision trees during training phases. The decision of the majority of the trees is chosen as final decision.\n",
        "\n",
        "<div align='center'><img src='https://raw.githubusercontent.com/rafiag/DTI2020/main/images/random_forest.PNG' height='250'></div>\n",
        "\n",
        "Advantages:\n",
        "* It can be used for both regression and classification tasks and that it’s easy to view the relative importance it assigns to the input features.\n",
        "* It is also considered as a very handy and easy to use algorithm, because it’s default hyper-parameters often produce a good prediction result.\n",
        "\n",
        "Disadvantages:\n",
        "* Many trees can make the algorithm to slow and ineffective for real-time predictions. A more accurate prediction requires more trees, which results in a slower model.\n",
        "* It is a predictive modelling tool and not a descriptive tool."
      ]
    },
    {
      "cell_type": "markdown",
      "metadata": {
        "id": "yxGs5YZREDZd"
      },
      "source": [
        "### Building Model"
      ]
    },
    {
      "cell_type": "code",
      "metadata": {
        "id": "LPAcuhNVEDZh"
      },
      "source": [
        "from sklearn.ensemble import RandomForestClassifier\n",
        "\n",
        "# Building Random Forest model \n",
        "rf = RandomForestClassifier(random_state=0)\n",
        "rf.fit(X_train, y_train)"
      ],
      "execution_count": null,
      "outputs": []
    },
    {
      "cell_type": "markdown",
      "metadata": {
        "id": "_F3f_LTLEDZz"
      },
      "source": [
        "### Model Evaluation"
      ]
    },
    {
      "cell_type": "code",
      "metadata": {
        "id": "HIHhis3PUHZV"
      },
      "source": [
        "# Evaluate Model\r\n",
        "rf_eval = evaluate_model(rf, X_test, y_test)\r\n",
        "\r\n",
        "# Print result\r\n",
        "print('Accuracy:', rf_eval['acc'])\r\n",
        "print('Precision:', rf_eval['prec'])\r\n",
        "print('Recall:', rf_eval['rec'])\r\n",
        "print('F1 Score:', rf_eval['f1'])\r\n",
        "print('Cohens Kappa Score:', rf_eval['kappa'])\r\n",
        "print('Area Under Curve:', rf_eval['auc'])\r\n",
        "print('Confusion Matrix:\\n', rf_eval['cm'])"
      ],
      "execution_count": null,
      "outputs": []
    },
    {
      "cell_type": "markdown",
      "metadata": {
        "id": "Rw2_QuEwEid_"
      },
      "source": [
        "## Naive Bayes\n",
        "\n",
        "Naive Bayes is a simple technique for constructing classifiers: models that assign class labels to problem instances, represented as vectors of feature values, where the class labels are drawn from some finite set. There is not a single algorithm for training such classifiers, but a family of algorithms based on a common principle: all naive Bayes classifiers assume that the value of a particular feature is independent of the value of any other feature, given the class variable. Below are the Bayes theorem formula:\n",
        "\n",
        "<div align=\"center\">$P(C | A) = \\frac{P(A|C) P(C)}{P(A)}$</div>\n",
        "\n",
        "For example, given:\n",
        "* A doctor knows that meningitis  causes  stiff neck 50% of the time\n",
        "* Prior probability  of any patient  having  meningitis  is 1/50,000\n",
        "* Prior probability  of any patient  having  stiff neck is 1/20\n",
        "\n",
        "Then the probability of patient who have stiff neck to also have meningitis is:\n",
        "\n",
        "<div align=\"center\">$P(C | A) = \\frac{P(A|C) P(C)}{P(A)} = \\frac{0.5 * (1 / 50000)}{1 / 20} = 0.0002$</div>"
      ]
    },
    {
      "cell_type": "markdown",
      "metadata": {
        "id": "r6tOX8e2En_N"
      },
      "source": [
        "### Building Model"
      ]
    },
    {
      "cell_type": "code",
      "metadata": {
        "id": "uHZ4k5ArEn_R"
      },
      "source": [
        "from sklearn.naive_bayes import GaussianNB\n",
        "\n",
        "# Building Naive Bayes model \n",
        "nb = GaussianNB()\n",
        "nb.fit(X_train, y_train)"
      ],
      "execution_count": null,
      "outputs": []
    },
    {
      "cell_type": "markdown",
      "metadata": {
        "id": "k7R3M5N5En_l"
      },
      "source": [
        "### Model Evaluation"
      ]
    },
    {
      "cell_type": "code",
      "metadata": {
        "id": "O0Ob381RUR7A"
      },
      "source": [
        "# Evaluate Model\r\n",
        "nb_eval = evaluate_model(nb, X_test, y_test)\r\n",
        "\r\n",
        "# Print result\r\n",
        "print('Accuracy:', nb_eval['acc'])\r\n",
        "print('Precision:', nb_eval['prec'])\r\n",
        "print('Recall:', nb_eval['rec'])\r\n",
        "print('F1 Score:', nb_eval['f1'])\r\n",
        "print('Cohens Kappa Score:', nb_eval['kappa'])\r\n",
        "print('Area Under Curve:', nb_eval['auc'])\r\n",
        "print('Confusion Matrix:\\n', nb_eval['cm'])"
      ],
      "execution_count": null,
      "outputs": []
    },
    {
      "cell_type": "markdown",
      "metadata": {
        "id": "c-ON4O9yIU55"
      },
      "source": [
        "## K-Nearest Neighbors\n",
        "\n",
        "K-Nearest Neighbors (KNN) classify new data by finding k-number of closest neighbor from the training data and then decide the class based on the majority of it's neighbors. For example in the image below where $k = 3$ majority of it's neighbor is classified as B, but when $k = 7$ the majority will changes to A.\n",
        "\n",
        "<div align='center'><img src='https://raw.githubusercontent.com/rafiag/DTI2020/main/images/knn.PNG' height='200'></div>\n",
        "\n",
        "Advantages:\n",
        "* Simple technique that is easily implemented\n",
        "* Building model is cheap\n",
        "* Extremely flexible classification scheme\n",
        "\n",
        "Disadvantages:\n",
        "* Classifying unknown records are relatively expensive\n",
        "* Requires distance computation of k-nearest neighbors\n",
        "* Computationally intensive, especially when the size of the training set grows\n",
        "* Accuracy can be severely degraded by the presence of noisy or irrelevant features"
      ]
    },
    {
      "cell_type": "markdown",
      "metadata": {
        "id": "Qj7xtqeyIwvp"
      },
      "source": [
        "### Building Model"
      ]
    },
    {
      "cell_type": "code",
      "metadata": {
        "id": "5o34E_b3Iwvu"
      },
      "source": [
        "from sklearn.neighbors import KNeighborsClassifier\n",
        "\n",
        "# Building KNN model \n",
        "knn = KNeighborsClassifier()\n",
        "knn.fit(X_train, y_train)"
      ],
      "execution_count": null,
      "outputs": []
    },
    {
      "cell_type": "markdown",
      "metadata": {
        "id": "KBMCWD1JIwv_"
      },
      "source": [
        "### Model Evaluation"
      ]
    },
    {
      "cell_type": "code",
      "metadata": {
        "id": "75w-TRgeUcFf"
      },
      "source": [
        "# Evaluate Model\r\n",
        "knn_eval = evaluate_model(knn, X_test, y_test)\r\n",
        "\r\n",
        "# Print result\r\n",
        "print('Accuracy:', knn_eval['acc'])\r\n",
        "print('Precision:', knn_eval['prec'])\r\n",
        "print('Recall:', knn_eval['rec'])\r\n",
        "print('F1 Score:', knn_eval['f1'])\r\n",
        "print('Cohens Kappa Score:', knn_eval['kappa'])\r\n",
        "print('Area Under Curve:', knn_eval['auc'])\r\n",
        "print('Confusion Matrix:\\n', knn_eval['cm'])"
      ],
      "execution_count": null,
      "outputs": []
    },
    {
      "cell_type": "markdown",
      "metadata": {
        "id": "q_SNuZfUJdQu"
      },
      "source": [
        "## Model Comparison\n",
        "\n",
        "After building all of our model, we can now compare how well each model perform. To do this we will create two chart, first is a grouped bar chart to display the value of accuracy, precision, recall, f1, and kappa score of our model, and second a line chart to show the AUC of all our models."
      ]
    },
    {
      "cell_type": "code",
      "metadata": {
        "id": "HGEI1_ALU8uc"
      },
      "source": [
        "# Intitialize figure with two plots\r\n",
        "fig, (ax1, ax2) = plt.subplots(1, 2)\r\n",
        "fig.suptitle('Model Comparison', fontsize=16, fontweight='bold')\r\n",
        "fig.set_figheight(7)\r\n",
        "fig.set_figwidth(14)\r\n",
        "fig.set_facecolor('white')\r\n",
        "\r\n",
        "# First plot\r\n",
        "## set bar size\r\n",
        "barWidth = 0.2\r\n",
        "dtc_score = [dtc_eval['acc'], dtc_eval['prec'], dtc_eval['rec'], dtc_eval['f1'], dtc_eval['kappa']]\r\n",
        "rf_score = [rf_eval['acc'], rf_eval['prec'], rf_eval['rec'], rf_eval['f1'], rf_eval['kappa']]\r\n",
        "nb_score = [nb_eval['acc'], nb_eval['prec'], nb_eval['rec'], nb_eval['f1'], nb_eval['kappa']]\r\n",
        "knn_score = [knn_eval['acc'], knn_eval['prec'], knn_eval['rec'], knn_eval['f1'], knn_eval['kappa']]\r\n",
        "\r\n",
        "## Set position of bar on X axis\r\n",
        "r1 = np.arange(len(dtc_score))\r\n",
        "r2 = [x + barWidth for x in r1]\r\n",
        "r3 = [x + barWidth for x in r2]\r\n",
        "r4 = [x + barWidth for x in r3]\r\n",
        "\r\n",
        "## Make the plot\r\n",
        "ax1.bar(r1, dtc_score, width=barWidth, edgecolor='white', label='Decision Tree')\r\n",
        "ax1.bar(r2, rf_score, width=barWidth, edgecolor='white', label='Random Forest')\r\n",
        "ax1.bar(r3, nb_score, width=barWidth, edgecolor='white', label='Naive Bayes')\r\n",
        "ax1.bar(r4, knn_score, width=barWidth, edgecolor='white', label='K-Nearest Neighbors')\r\n",
        "\r\n",
        "## Configure x and y axis\r\n",
        "ax1.set_xlabel('Metrics', fontweight='bold')\r\n",
        "labels = ['Accuracy', 'Precision', 'Recall', 'F1', 'Kappa']\r\n",
        "ax1.set_xticks([r + (barWidth * 1.5) for r in range(len(dtc_score))], )\r\n",
        "ax1.set_xticklabels(labels)\r\n",
        "ax1.set_ylabel('Score', fontweight='bold')\r\n",
        "ax1.set_ylim(0, 1)\r\n",
        "\r\n",
        "## Create legend & title\r\n",
        "ax1.set_title('Evaluation Metrics', fontsize=14, fontweight='bold')\r\n",
        "ax1.legend()\r\n",
        "\r\n",
        "# Second plot\r\n",
        "## Comparing ROC Curve\r\n",
        "ax2.plot(dtc_eval['fpr'], dtc_eval['tpr'], label='Decision Tree, auc = {:0.5f}'.format(dtc_eval['auc']))\r\n",
        "ax2.plot(rf_eval['fpr'], rf_eval['tpr'], label='Random Forest, auc = {:0.5f}'.format(rf_eval['auc']))\r\n",
        "ax2.plot(nb_eval['fpr'], nb_eval['tpr'], label='Naive Bayes, auc = {:0.5f}'.format(nb_eval['auc']))\r\n",
        "ax2.plot(knn_eval['fpr'], knn_eval['tpr'], label='K-Nearest Nieghbor, auc = {:0.5f}'.format(knn_eval['auc']))\r\n",
        "\r\n",
        "## Configure x and y axis\r\n",
        "ax2.set_xlabel('False Positive Rate', fontweight='bold')\r\n",
        "ax2.set_ylabel('True Positive Rate', fontweight='bold')\r\n",
        "\r\n",
        "## Create legend & title\r\n",
        "ax2.set_title('ROC Curve', fontsize=14, fontweight='bold')\r\n",
        "ax2.legend(loc=4)\r\n",
        "\r\n",
        "plt.show()"
      ],
      "execution_count": null,
      "outputs": []
    },
    {
      "cell_type": "markdown",
      "metadata": {
        "id": "ywNzSSUFBL0F"
      },
      "source": [
        "From the figures above we can see that our Random Forest model tops the other models in 5 of the 6 metrics we evaluate, except precision. So we can assume that Random Forest is the right choice to solve our problem."
      ]
    },
    {
      "cell_type": "markdown",
      "metadata": {
        "id": "ffBJzVwhJnES"
      },
      "source": [
        "# Model Optimisation\n",
        "\n",
        "On the next part of this notebook, we will try to optimise our RandomForest model by tuning the hyper parameters available from the scikit-learn library. After finding the optimal parameters we will then evaluate our new model by comparing it against our base line model before."
      ]
    },
    {
      "cell_type": "markdown",
      "metadata": {
        "id": "4ONqwVhnpvYe"
      },
      "source": [
        "## Tuning Hyperparameter with GridSearchCV\n",
        "\n",
        "We will use `GridSearchCV` functionality from sklearn to find the optimal parameter for our model. We will provide our baseline model (named `rf_grids`), scoring method (in our case we will use recall as explained before), and also various parameters value we want to try with our model. The `GridSearchCV` function will then iterate through each parameters combination to find the best scoring parameters.\n",
        "\n",
        "This function also allow us to use cross validation to train our model, where on each iteration our data will be divided into 5 (the number are adjustable from the parameter) fold. The models then will be trained on 4/5 fold of the data leaving the final fold as validation data, this process will be repeated for 5 times until all of our folds are used as validation data.\n",
        "\n",
        "<div align='center'><img src='https://i.imgur.com/9k60cVA.png' height='200'></div>\n",
        "\n",
        "To see the result of which parameters combination works best we can access the `best_params_` attribute from our grid search object.\n",
        "\n",
        "*Note: The more combination provided, the longer the process will take. Alternatively, you can also try `RandomizedSearchCV` to only randomly select specified number of parameters which can result in faster running time.*"
      ]
    },
    {
      "cell_type": "code",
      "metadata": {
        "id": "9JNuJ9SeWjsq"
      },
      "source": [
        "from sklearn.model_selection import GridSearchCV\n",
        "\n",
        "# Create the parameter grid based on the results of random search \n",
        "param_grid = {\n",
        "    'max_depth': [50, 80, 100],\n",
        "    'max_features': [2, 3, 4],\n",
        "    'min_samples_leaf': [3, 4, 5],\n",
        "    'min_samples_split': [8, 10, 12],\n",
        "    'n_estimators': [100, 300, 500, 750, 1000]\n",
        "}\n",
        "\n",
        "# Create a base model\n",
        "rf_grids = RandomForestClassifier(random_state=0)\n",
        "\n",
        "# Initiate the grid search model\n",
        "grid_search = GridSearchCV(estimator=rf_grids, param_grid=param_grid, scoring='recall',\n",
        "                           cv=5, n_jobs=-1, verbose=2)\n",
        "\n",
        "# Fit the grid search to the data\n",
        "grid_search.fit(X_train, y_train)\n",
        "\n",
        "grid_search.best_params_"
      ],
      "execution_count": null,
      "outputs": []
    },
    {
      "cell_type": "markdown",
      "metadata": {
        "id": "VtY5q3Dop_W_"
      },
      "source": [
        "## Evaluating Optimised Model\n",
        "\n",
        "After finding the best parameter for the model we can access the `best_estimator_` attribute of the GridSearchCV object to save our optimised model into variable called `best_grid`. We will calculate the 6 evaluation metrics using our helper function to compare it with our base model on the next step."
      ]
    },
    {
      "cell_type": "code",
      "metadata": {
        "id": "grO28FRSXvF4"
      },
      "source": [
        "# Select best model with best fit\r\n",
        "best_grid = grid_search.best_estimator_\r\n",
        "\r\n",
        "# Evaluate Model\r\n",
        "best_grid_eval = evaluate_model(best_grid, X_test, y_test)\r\n",
        "\r\n",
        "# Print result\r\n",
        "print('Accuracy:', best_grid_eval['acc'])\r\n",
        "print('Precision:', best_grid_eval['prec'])\r\n",
        "print('Recall:', best_grid_eval['rec'])\r\n",
        "print('F1 Score:', best_grid_eval['f1'])\r\n",
        "print('Cohens Kappa Score:', best_grid_eval['kappa'])\r\n",
        "print('Area Under Curve:', best_grid_eval['auc'])\r\n",
        "print('Confusion Matrix:\\n', best_grid_eval['cm'])"
      ],
      "execution_count": null,
      "outputs": []
    },
    {
      "cell_type": "markdown",
      "metadata": {
        "id": "cvwaI0ysqCDU"
      },
      "source": [
        "## Model Comparison\n",
        "\n",
        "The code below will draw the same plot as before only with our original Random Forest model and it's optimised version. It will also print the change on each evaluation metrics to help us see if our optimised model work better than the original one."
      ]
    },
    {
      "cell_type": "code",
      "metadata": {
        "id": "0zN6-vaASeXX"
      },
      "source": [
        "# Intitialize figure with two plots\n",
        "fig, (ax1, ax2) = plt.subplots(1, 2)\n",
        "fig.suptitle('Model Comparison', fontsize=16, fontweight='bold')\n",
        "fig.set_figheight(7)\n",
        "fig.set_figwidth(14)\n",
        "fig.set_facecolor('white')\n",
        "\n",
        "# First plot\n",
        "## set bar size\n",
        "barWidth = 0.2\n",
        "rf_score = [rf_eval['acc'], rf_eval['prec'], rf_eval['rec'], rf_eval['f1'], rf_eval['kappa']]\n",
        "best_grid_score = [best_grid_eval['acc'], best_grid_eval['prec'], best_grid_eval['rec'], best_grid_eval['f1'], best_grid_eval['kappa']]\n",
        "\n",
        "## Set position of bar on X axis\n",
        "r1 = np.arange(len(rf_score))\n",
        "r2 = [x + barWidth for x in r1]\n",
        "\n",
        "## Make the plot\n",
        "ax1.bar(r1, rf_score, width=barWidth, edgecolor='white', label='Random Forest (Base Line)')\n",
        "ax1.bar(r2, best_grid_score, width=barWidth, edgecolor='white', label='Random Forest (Optimized)')\n",
        "\n",
        "## Add xticks on the middle of the group bars\n",
        "ax1.set_xlabel('Metrics', fontweight='bold')\n",
        "labels = ['Accuracy', 'Precision', 'Recall', 'F1', 'Kappa']\n",
        "ax1.set_xticks([r + (barWidth * 0.5) for r in range(len(dtc_score))], )\n",
        "ax1.set_xticklabels(labels)\n",
        "ax1.set_ylabel('Score', fontweight='bold')\n",
        "# ax1.set_ylim(0, 1)\n",
        "\n",
        "## Create legend & Show graphic\n",
        "ax1.set_title('Evaluation Metrics', fontsize=14, fontweight='bold')\n",
        "ax1.legend()\n",
        "\n",
        "# Second plot\n",
        "## Comparing ROC Curve\n",
        "ax2.plot(rf_eval['fpr'], rf_eval['tpr'], label='Random Forest, auc = {:0.5f}'.format(rf_eval['auc']))\n",
        "ax2.plot(best_grid_eval['fpr'], best_grid_eval['tpr'], label='Random Forest, auc = {:0.5f}'.format(best_grid_eval['auc']))\n",
        "\n",
        "ax2.set_title('ROC Curve', fontsize=14, fontweight='bold')\n",
        "ax2.set_xlabel('False Positive Rate', fontweight='bold')\n",
        "ax2.set_ylabel('True Positive Rate', fontweight='bold')\n",
        "ax2.legend(loc=4)\n",
        "\n",
        "plt.show()\n",
        "\n",
        "print('Change of {:0.2f}% on accuracy.'.format(100 * ((best_grid_eval['acc'] - rf_eval['acc']) / rf_eval['acc'])))\n",
        "print('Change of {:0.2f}% on precision.'.format(100 * ((best_grid_eval['prec'] - rf_eval['prec']) / rf_eval['prec'])))\n",
        "print('Change of {:0.2f}% on recall.'.format(100 * ((best_grid_eval['rec'] - rf_eval['rec']) / rf_eval['rec'])))\n",
        "print('Change of {:0.2f}% on F1 score.'.format(100 * ((best_grid_eval['f1'] - rf_eval['f1']) / rf_eval['f1'])))\n",
        "print('Change of {:0.2f}% on Kappa score.'.format(100 * ((best_grid_eval['kappa'] - rf_eval['kappa']) / rf_eval['kappa'])))\n",
        "print('Change of {:0.2f}% on AUC.'.format(100 * ((best_grid_eval['auc'] - rf_eval['auc']) / rf_eval['auc'])))"
      ],
      "execution_count": null,
      "outputs": []
    },
    {
      "cell_type": "markdown",
      "metadata": {
        "id": "ZsG6BmdvVbo1"
      },
      "source": [
        "The result show that our optimised performed little bit better than the original model. The optimised models show an increase in 4 out of the 6 metrics but perform worse in the other metrics, especially the recall with -4.34% decrease. Because we want to focus on predicting as many actual positive values as possible we should stick with our original model for the prediction because it has higher recall score."
      ]
    },
    {
      "cell_type": "markdown",
      "metadata": {
        "id": "s06YlIWtrFCV"
      },
      "source": [
        "# Output\r\n",
        "\r\n",
        "We have our model, what next? As data scientist it's important to be able to develop a model with good re-usability. In this final part I will explain on how to create a prediction based on new data and also how to save (and load) your model using `joblib` so you can use it in production or just save it for later use without having to repeat the whole process."
      ]
    },
    {
      "cell_type": "markdown",
      "metadata": {
        "id": "e_7PbTssz6xs"
      },
      "source": [
        "## Prediction\n",
        "\n",
        "In this step we will predict the expected outcome of all the row from our dataset then save it into a csv file for easier access in the future."
      ]
    },
    {
      "cell_type": "code",
      "metadata": {
        "id": "182pRuDqrTmR"
      },
      "source": [
        "df_bank['deposit_prediction'] = rf.predict(feature)\n",
        "df_bank['deposit_prediction'] = df_bank['deposit_prediction'].apply(lambda x: 'yes' if x==0 else 'no')\n",
        "\n",
        "# Save new dataframe into csv file\n",
        "df_bank.to_csv('deposit_prediction.csv', index=False)\n",
        "\n",
        "df_bank.head(10)"
      ],
      "execution_count": null,
      "outputs": []
    },
    {
      "cell_type": "markdown",
      "metadata": {
        "id": "PKPXhoO2z9Yl"
      },
      "source": [
        "## Saving model\n",
        "\n",
        "We can also save our model for further model reusability. This model can then be loaded on another machine to make new prediction without doing the whole training process again."
      ]
    },
    {
      "cell_type": "code",
      "metadata": {
        "id": "pcr1pF4kz-s-"
      },
      "source": [
        "from joblib import dump, load\n",
        "\n",
        "# Saving model\n",
        "dump(rf, 'bank_deposit_classification.joblib')\n",
        "# Loading model\n",
        "# clf = load('bank_deposit_classification.joblib') "
      ],
      "execution_count": null,
      "outputs": []
    },
    {
      "cell_type": "markdown",
      "metadata": {
        "id": "6f0M9vY6sh5C"
      },
      "source": [
        "# Conclusion\n",
        "\n",
        "For a simple model we can see that our model did decently on classifying the data. But there are still some weakness on our model, especially shown on the recall metric where we only get about 60%. This means that our model are only able to detect 60% of potential customer and miss the other 40%. The result is not that much different after optimising the model using `GridSearchCV` which can means that we hit our limit with this model. To imporove our performance we can try to look into another algorithm such as `GradientBoostingClassifier`.\n",
        "\n",
        "# References\n",
        "\n",
        "1. Telkom Digital Talent Incubator - Data Scientist Module 5 (Classification)\n",
        "2. [Scikit-learn Documentation](https://scikit-learn.org/stable/index.html)\n",
        "3. [The 5 Classification Evaluation metrics every Data Scientist must know](https://towardsdatascience.com/the-5-classification-evaluation-metrics-you-must-know-aa97784ff226)\n",
        "4. [The Python Graph Gallery - Grouped Bar Plot](https://python-graph-gallery.com/11-grouped-barplot/)"
      ]
    }
  ]
}