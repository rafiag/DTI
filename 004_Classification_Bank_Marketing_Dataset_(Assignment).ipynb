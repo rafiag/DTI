{
  "nbformat": 4,
  "nbformat_minor": 0,
  "metadata": {
    "colab": {
      "name": "004_Classification - Bank Marketing Dataset (Assignment).ipynb",
      "provenance": [],
      "collapsed_sections": [],
      "toc_visible": true,
      "authorship_tag": "ABX9TyPOZDpcZWzPNXGfWYdLfGUz",
      "include_colab_link": true
    },
    "kernelspec": {
      "name": "python3",
      "display_name": "Python 3"
    }
  },
  "cells": [
    {
      "cell_type": "markdown",
      "metadata": {
        "id": "view-in-github",
        "colab_type": "text"
      },
      "source": [
        "<a href=\"https://colab.research.google.com/github/rafiag/DTI2020/blob/main/004_Classification_Bank_Marketing_Dataset_(Assignment).ipynb\" target=\"_parent\"><img src=\"https://colab.research.google.com/assets/colab-badge.svg\" alt=\"Open In Colab\"/></a>"
      ]
    },
    {
      "cell_type": "markdown",
      "metadata": {
        "id": "xL-Nk3m_eQsX"
      },
      "source": [
        "# Introduction\n",
        "\n",
        "In machine  learning  and statistics,  classification  is the problem  of identifying  to which  of a set of categories (sub-populations)  a new observation  belongs,  based  on a training  set of data containing observations  (or instances)  whose  category membership  is known. Examples of classification problems are assigning  a given email to the \"spam\" or \"non-spam\" class, and assigning  a diagnosis  to a given patient  based  on observed  characteristics  of the patient  (sex,  blood pressure, presence  or absence of certain symptoms, etc.)\n",
        "\n",
        "In this notebook we will use the [Bank Marketing Dataset](https://www.kaggle.com/janiobachmann/bank-marketing-dataset) from Kaggle to build a model to predict whether someone is going to make a deposit or not depending on some attributes. We wiill try to build 4 models using different algorithm Decision Tree, Random Forest, Naive Bayes, and K-Nearest Neighbors. After building each model we will evalueate them and compare which model are the best for our case. We will then try to optimze our model by tuning the hyper paramters of the model by using GridSearch. Lastly, we will save the prediction result from our dataset and then save our model for reussability.\n",
        "\n",
        "To start we will load some basic libraries such as Pandas and NumPy and then make some configuration to some of those libraries."
      ]
    },
    {
      "cell_type": "code",
      "metadata": {
        "id": "uI1mGf-RdvlD"
      },
      "source": [
        "# Import libraries\n",
        "## Basic libs\n",
        "import pandas as pd\n",
        "import numpy as np\n",
        "import warnings\n",
        "## Data Visualization\n",
        "import seaborn as sns\n",
        "import matplotlib.pyplot as plt\n",
        "\n",
        "# Configure libraries\n",
        "warnings.filterwarnings('ignore')\n",
        "plt.rcParams['figure.figsize'] = (10, 10)\n",
        "plt.style.use('seaborn')"
      ],
      "execution_count": 1,
      "outputs": []
    },
    {
      "cell_type": "markdown",
      "metadata": {
        "id": "1Ml3cXrzkuZ0"
      },
      "source": [
        "# Data Pre-Processing\n",
        "\n",
        "Before we can begin to create our first model we first need to load and pre-process. This step ensure that our model will receive a good data to learn from, as they said \"a model is only as good as it's data\". The data pre-processing will be divided into few steps as explained below."
      ]
    },
    {
      "cell_type": "markdown",
      "metadata": {
        "id": "Yf8uFbzy57qd"
      },
      "source": [
        "## Loading data\n",
        "\n",
        "In this first step we will load our dataset that has been uploaded on my GitHub for easier process. From the dataset documentation found [here](https://archive.ics.uci.edu/ml/datasets/Bank+Marketing) we can see below are the list of column we have in our data:\n",
        "\n",
        "Input variables:\n",
        "1. age (numeric)\n",
        "2. job : type of job (categorical: 'admin.','blue-collar','entrepreneur','housemaid','management','retired','self-employed','services','student','technician','unemployed','unknown')\n",
        "3. marital : marital status (categorical: 'divorced','married','single','unknown'; note: 'divorced' means divorced or widowed)\n",
        "4. education (categorical: 'basic.4y','basic.6y','basic.9y','high.school','illiterate','professional.course','university.degree','unknown')\n",
        "5. default: has credit in default? (categorical: 'no','yes','unknown')\n",
        "6. housing: has housing loan? (categorical: 'no','yes','unknown')\n",
        "7. loan: has personal loan? (categorical: 'no','yes','unknown')\n",
        "8. contact: contact communication type (categorical: 'cellular','telephone')\n",
        "9. month: last contact month of year (categorical: 'jan', 'feb', 'mar', ..., 'nov', 'dec')\n",
        "10. day_of_week: last contact day of the week (categorical: 'mon','tue','wed','thu','fri')\n",
        "11. duration: last contact duration, in seconds (numeric). Important note: this attribute highly affects the output target (e.g., if duration=0 then y='no'). Yet, the duration is not known before a call is performed. Also, after the end of the call y is obviously known. Thus, this input should only be included for benchmark purposes and should be discarded if the intention is to have a realistic predictive model.\n",
        "12. campaign: number of contacts performed during this campaign and for this client (numeric, includes last contact)\n",
        "13. pdays: number of days that passed by after the client was last contacted from a previous campaign (numeric; 999 means client was not previously contacted)\n",
        "14. previous: number of contacts performed before this campaign and for this client (numeric)\n",
        "15. poutcome: outcome of the previous marketing campaign (categorical: 'failure','nonexistent','success')\n",
        "\n",
        "Output variable (desired target):\n",
        "21. y. has the client subscribed a term deposit? (binary: 'yes','no')\n",
        "\n",
        "According to the dataset documentation, we need to remove the 'duration' column because in real-case the duration is only known after the label column is known. This problem can be considered to be 'data leakage' where predictors include data that will not be available at the time you make predictions."
      ]
    },
    {
      "cell_type": "code",
      "metadata": {
        "id": "qkY0_i5O586w",
        "outputId": "06c4a7f6-035f-4542-aa67-d4251f5b5a93",
        "colab": {
          "base_uri": "https://localhost:8080/",
          "height": 244
        }
      },
      "source": [
        "# Load dataset\n",
        "df_bank = pd.read_csv('https://raw.githubusercontent.com/rafiag/DTI2020/main/data/bank.csv')\n",
        "\n",
        "# Drop 'duration' column\n",
        "df_bank = df_bank.drop('duration', axis=1)\n",
        "\n",
        "# print(df_bank.info())\n",
        "print('Shape of dataframe:', df_bank.shape)\n",
        "df_bank.head()"
      ],
      "execution_count": 5,
      "outputs": [
        {
          "output_type": "stream",
          "text": [
            "Shape of dataframe: (11162, 16)\n"
          ],
          "name": "stdout"
        },
        {
          "output_type": "execute_result",
          "data": {
            "text/html": [
              "<div>\n",
              "<style scoped>\n",
              "    .dataframe tbody tr th:only-of-type {\n",
              "        vertical-align: middle;\n",
              "    }\n",
              "\n",
              "    .dataframe tbody tr th {\n",
              "        vertical-align: top;\n",
              "    }\n",
              "\n",
              "    .dataframe thead th {\n",
              "        text-align: right;\n",
              "    }\n",
              "</style>\n",
              "<table border=\"1\" class=\"dataframe\">\n",
              "  <thead>\n",
              "    <tr style=\"text-align: right;\">\n",
              "      <th></th>\n",
              "      <th>age</th>\n",
              "      <th>job</th>\n",
              "      <th>marital</th>\n",
              "      <th>education</th>\n",
              "      <th>default</th>\n",
              "      <th>balance</th>\n",
              "      <th>housing</th>\n",
              "      <th>loan</th>\n",
              "      <th>contact</th>\n",
              "      <th>day</th>\n",
              "      <th>month</th>\n",
              "      <th>campaign</th>\n",
              "      <th>pdays</th>\n",
              "      <th>previous</th>\n",
              "      <th>poutcome</th>\n",
              "      <th>deposit</th>\n",
              "    </tr>\n",
              "  </thead>\n",
              "  <tbody>\n",
              "    <tr>\n",
              "      <th>0</th>\n",
              "      <td>59</td>\n",
              "      <td>admin.</td>\n",
              "      <td>married</td>\n",
              "      <td>secondary</td>\n",
              "      <td>no</td>\n",
              "      <td>2343</td>\n",
              "      <td>yes</td>\n",
              "      <td>no</td>\n",
              "      <td>unknown</td>\n",
              "      <td>5</td>\n",
              "      <td>may</td>\n",
              "      <td>1</td>\n",
              "      <td>-1</td>\n",
              "      <td>0</td>\n",
              "      <td>unknown</td>\n",
              "      <td>yes</td>\n",
              "    </tr>\n",
              "    <tr>\n",
              "      <th>1</th>\n",
              "      <td>56</td>\n",
              "      <td>admin.</td>\n",
              "      <td>married</td>\n",
              "      <td>secondary</td>\n",
              "      <td>no</td>\n",
              "      <td>45</td>\n",
              "      <td>no</td>\n",
              "      <td>no</td>\n",
              "      <td>unknown</td>\n",
              "      <td>5</td>\n",
              "      <td>may</td>\n",
              "      <td>1</td>\n",
              "      <td>-1</td>\n",
              "      <td>0</td>\n",
              "      <td>unknown</td>\n",
              "      <td>yes</td>\n",
              "    </tr>\n",
              "    <tr>\n",
              "      <th>2</th>\n",
              "      <td>41</td>\n",
              "      <td>technician</td>\n",
              "      <td>married</td>\n",
              "      <td>secondary</td>\n",
              "      <td>no</td>\n",
              "      <td>1270</td>\n",
              "      <td>yes</td>\n",
              "      <td>no</td>\n",
              "      <td>unknown</td>\n",
              "      <td>5</td>\n",
              "      <td>may</td>\n",
              "      <td>1</td>\n",
              "      <td>-1</td>\n",
              "      <td>0</td>\n",
              "      <td>unknown</td>\n",
              "      <td>yes</td>\n",
              "    </tr>\n",
              "    <tr>\n",
              "      <th>3</th>\n",
              "      <td>55</td>\n",
              "      <td>services</td>\n",
              "      <td>married</td>\n",
              "      <td>secondary</td>\n",
              "      <td>no</td>\n",
              "      <td>2476</td>\n",
              "      <td>yes</td>\n",
              "      <td>no</td>\n",
              "      <td>unknown</td>\n",
              "      <td>5</td>\n",
              "      <td>may</td>\n",
              "      <td>1</td>\n",
              "      <td>-1</td>\n",
              "      <td>0</td>\n",
              "      <td>unknown</td>\n",
              "      <td>yes</td>\n",
              "    </tr>\n",
              "    <tr>\n",
              "      <th>4</th>\n",
              "      <td>54</td>\n",
              "      <td>admin.</td>\n",
              "      <td>married</td>\n",
              "      <td>tertiary</td>\n",
              "      <td>no</td>\n",
              "      <td>184</td>\n",
              "      <td>no</td>\n",
              "      <td>no</td>\n",
              "      <td>unknown</td>\n",
              "      <td>5</td>\n",
              "      <td>may</td>\n",
              "      <td>2</td>\n",
              "      <td>-1</td>\n",
              "      <td>0</td>\n",
              "      <td>unknown</td>\n",
              "      <td>yes</td>\n",
              "    </tr>\n",
              "  </tbody>\n",
              "</table>\n",
              "</div>"
            ],
            "text/plain": [
              "   age         job  marital  education  ... pdays  previous poutcome deposit\n",
              "0   59      admin.  married  secondary  ...    -1         0  unknown     yes\n",
              "1   56      admin.  married  secondary  ...    -1         0  unknown     yes\n",
              "2   41  technician  married  secondary  ...    -1         0  unknown     yes\n",
              "3   55    services  married  secondary  ...    -1         0  unknown     yes\n",
              "4   54      admin.  married   tertiary  ...    -1         0  unknown     yes\n",
              "\n",
              "[5 rows x 16 columns]"
            ]
          },
          "metadata": {
            "tags": []
          },
          "execution_count": 5
        }
      ]
    },
    {
      "cell_type": "markdown",
      "metadata": {
        "id": "mzRRMcUkB7Ch"
      },
      "source": [
        "## Class Distribution\n",
        "\n",
        "Another important thing to make sure before feeding our data into the model is the class distribution of the data. In our case where the expected class are divided into two outcome, 'yes' and 'no', a class distribution of 50:50 can be considered ideal."
      ]
    },
    {
      "cell_type": "code",
      "metadata": {
        "id": "bP1q5SGTF3S-",
        "outputId": "6fa71e4f-9a26-43fd-8a72-8874fa38251e",
        "colab": {
          "base_uri": "https://localhost:8080/"
        }
      },
      "source": [
        "df_bank['deposit'].value_counts()"
      ],
      "execution_count": 6,
      "outputs": [
        {
          "output_type": "execute_result",
          "data": {
            "text/plain": [
              "no     5873\n",
              "yes    5289\n",
              "Name: deposit, dtype: int64"
            ]
          },
          "metadata": {
            "tags": []
          },
          "execution_count": 6
        }
      ]
    },
    {
      "cell_type": "markdown",
      "metadata": {
        "id": "2qAv5u5WBzKa"
      },
      "source": [
        "As we can see our class distribution is more or less similar, not exactly 50:50 distribution but still good enough."
      ]
    },
    {
      "cell_type": "markdown",
      "metadata": {
        "id": "OKOO_Qj6odGa"
      },
      "source": [
        "## Missing Values\n",
        "\n",
        "Last thing to check before moving on is missing values. In some case our data might have missing values in some column, this can be caused some reasons such as human error. We can use the `is_null()` function from Pandas to check for any missing data and then use the `sum()` function to see the total of missing values in each column."
      ]
    },
    {
      "cell_type": "code",
      "metadata": {
        "id": "Rz75ZKRIoWdK",
        "outputId": "0931bd21-9a14-41f1-8c70-51f87412a4d0",
        "colab": {
          "base_uri": "https://localhost:8080/"
        }
      },
      "source": [
        "df_bank.isnull().sum()"
      ],
      "execution_count": 7,
      "outputs": [
        {
          "output_type": "execute_result",
          "data": {
            "text/plain": [
              "age          0\n",
              "job          0\n",
              "marital      0\n",
              "education    0\n",
              "default      0\n",
              "balance      0\n",
              "housing      0\n",
              "loan         0\n",
              "contact      0\n",
              "day          0\n",
              "month        0\n",
              "campaign     0\n",
              "pdays        0\n",
              "previous     0\n",
              "poutcome     0\n",
              "deposit      0\n",
              "dtype: int64"
            ]
          },
          "metadata": {
            "tags": []
          },
          "execution_count": 7
        }
      ]
    },
    {
      "cell_type": "markdown",
      "metadata": {
        "id": "-on1EChPDf0N"
      },
      "source": [
        "From the result we can be assured that our data have no missing value and are good to go. In the case where you did have missing value in your data you can solve it by doing imputation or just remove the column altogether depending on your case. [Here](https://www.kaggle.com/dansbecker/handling-missing-values) is a good Kaggle course on how to handle missing value in dataset."
      ]
    },
    {
      "cell_type": "markdown",
      "metadata": {
        "id": "oOwTQen_ojsR"
      },
      "source": [
        "## Scale Numeric Data\n",
        "\n",
        "Next up, we will scale our numerical data to avoid outlier presence that can significantly affect our model. Using `StandardScaler()` function from sklearn we can scale each our columns that contains numerical data. The scaling will be done using the formula below:\n",
        "\n",
        "<div align=\"center\">$Z = \\frac{X - U}{S}$</div>\n",
        "\n",
        "*Where:*\n",
        "\n",
        "*$Z:$ scaled value*\n",
        "\n",
        "*$X:$ original value*\n",
        "\n",
        "*$U:$ mean of the data*\n",
        "\n",
        "*$S:$ standard deviation of the data*"
      ]
    },
    {
      "cell_type": "code",
      "metadata": {
        "id": "A61QD58UkzFh",
        "outputId": "16b5e06f-e146-4447-d126-872c24ca61ef",
        "colab": {
          "base_uri": "https://localhost:8080/",
          "height": 226
        }
      },
      "source": [
        "from sklearn.preprocessing import StandardScaler\n",
        "\n",
        "# Copying original dataframe\n",
        "df_bank_ready = df_bank.copy()\n",
        "\n",
        "scaler = StandardScaler()\n",
        "num_cols = ['age', 'balance', 'day', 'campaign', 'pdays', 'previous']\n",
        "df_bank_ready[num_cols] = scaler.fit_transform(df_bank[num_cols])\n",
        "\n",
        "df_bank_ready.head()"
      ],
      "execution_count": 9,
      "outputs": [
        {
          "output_type": "execute_result",
          "data": {
            "text/html": [
              "<div>\n",
              "<style scoped>\n",
              "    .dataframe tbody tr th:only-of-type {\n",
              "        vertical-align: middle;\n",
              "    }\n",
              "\n",
              "    .dataframe tbody tr th {\n",
              "        vertical-align: top;\n",
              "    }\n",
              "\n",
              "    .dataframe thead th {\n",
              "        text-align: right;\n",
              "    }\n",
              "</style>\n",
              "<table border=\"1\" class=\"dataframe\">\n",
              "  <thead>\n",
              "    <tr style=\"text-align: right;\">\n",
              "      <th></th>\n",
              "      <th>age</th>\n",
              "      <th>job</th>\n",
              "      <th>marital</th>\n",
              "      <th>education</th>\n",
              "      <th>default</th>\n",
              "      <th>balance</th>\n",
              "      <th>housing</th>\n",
              "      <th>loan</th>\n",
              "      <th>contact</th>\n",
              "      <th>day</th>\n",
              "      <th>month</th>\n",
              "      <th>campaign</th>\n",
              "      <th>pdays</th>\n",
              "      <th>previous</th>\n",
              "      <th>poutcome</th>\n",
              "      <th>deposit</th>\n",
              "    </tr>\n",
              "  </thead>\n",
              "  <tbody>\n",
              "    <tr>\n",
              "      <th>0</th>\n",
              "      <td>1.491505</td>\n",
              "      <td>admin.</td>\n",
              "      <td>married</td>\n",
              "      <td>secondary</td>\n",
              "      <td>no</td>\n",
              "      <td>0.252525</td>\n",
              "      <td>yes</td>\n",
              "      <td>no</td>\n",
              "      <td>unknown</td>\n",
              "      <td>-1.265746</td>\n",
              "      <td>may</td>\n",
              "      <td>-0.554168</td>\n",
              "      <td>-0.481184</td>\n",
              "      <td>-0.36326</td>\n",
              "      <td>unknown</td>\n",
              "      <td>yes</td>\n",
              "    </tr>\n",
              "    <tr>\n",
              "      <th>1</th>\n",
              "      <td>1.239676</td>\n",
              "      <td>admin.</td>\n",
              "      <td>married</td>\n",
              "      <td>secondary</td>\n",
              "      <td>no</td>\n",
              "      <td>-0.459974</td>\n",
              "      <td>no</td>\n",
              "      <td>no</td>\n",
              "      <td>unknown</td>\n",
              "      <td>-1.265746</td>\n",
              "      <td>may</td>\n",
              "      <td>-0.554168</td>\n",
              "      <td>-0.481184</td>\n",
              "      <td>-0.36326</td>\n",
              "      <td>unknown</td>\n",
              "      <td>yes</td>\n",
              "    </tr>\n",
              "    <tr>\n",
              "      <th>2</th>\n",
              "      <td>-0.019470</td>\n",
              "      <td>technician</td>\n",
              "      <td>married</td>\n",
              "      <td>secondary</td>\n",
              "      <td>no</td>\n",
              "      <td>-0.080160</td>\n",
              "      <td>yes</td>\n",
              "      <td>no</td>\n",
              "      <td>unknown</td>\n",
              "      <td>-1.265746</td>\n",
              "      <td>may</td>\n",
              "      <td>-0.554168</td>\n",
              "      <td>-0.481184</td>\n",
              "      <td>-0.36326</td>\n",
              "      <td>unknown</td>\n",
              "      <td>yes</td>\n",
              "    </tr>\n",
              "    <tr>\n",
              "      <th>3</th>\n",
              "      <td>1.155733</td>\n",
              "      <td>services</td>\n",
              "      <td>married</td>\n",
              "      <td>secondary</td>\n",
              "      <td>no</td>\n",
              "      <td>0.293762</td>\n",
              "      <td>yes</td>\n",
              "      <td>no</td>\n",
              "      <td>unknown</td>\n",
              "      <td>-1.265746</td>\n",
              "      <td>may</td>\n",
              "      <td>-0.554168</td>\n",
              "      <td>-0.481184</td>\n",
              "      <td>-0.36326</td>\n",
              "      <td>unknown</td>\n",
              "      <td>yes</td>\n",
              "    </tr>\n",
              "    <tr>\n",
              "      <th>4</th>\n",
              "      <td>1.071790</td>\n",
              "      <td>admin.</td>\n",
              "      <td>married</td>\n",
              "      <td>tertiary</td>\n",
              "      <td>no</td>\n",
              "      <td>-0.416876</td>\n",
              "      <td>no</td>\n",
              "      <td>no</td>\n",
              "      <td>unknown</td>\n",
              "      <td>-1.265746</td>\n",
              "      <td>may</td>\n",
              "      <td>-0.186785</td>\n",
              "      <td>-0.481184</td>\n",
              "      <td>-0.36326</td>\n",
              "      <td>unknown</td>\n",
              "      <td>yes</td>\n",
              "    </tr>\n",
              "  </tbody>\n",
              "</table>\n",
              "</div>"
            ],
            "text/plain": [
              "        age         job  marital  ... previous poutcome  deposit\n",
              "0  1.491505      admin.  married  ... -0.36326  unknown      yes\n",
              "1  1.239676      admin.  married  ... -0.36326  unknown      yes\n",
              "2 -0.019470  technician  married  ... -0.36326  unknown      yes\n",
              "3  1.155733    services  married  ... -0.36326  unknown      yes\n",
              "4  1.071790      admin.  married  ... -0.36326  unknown      yes\n",
              "\n",
              "[5 rows x 16 columns]"
            ]
          },
          "metadata": {
            "tags": []
          },
          "execution_count": 9
        }
      ]
    },
    {
      "cell_type": "markdown",
      "metadata": {
        "id": "3QBED_6Oo0A5"
      },
      "source": [
        "## Encode Categorical Value\n",
        "\n",
        "Same as the numerical data, we also need to pre-process our categorical data from words to number to make it easier for the computer to understands. To do this we will use `OneHotEncoder()` provided by sklearn. Basically it will transform a categorical column from this:\n",
        "\n",
        "| marital | housing |\n",
        "|----------|---------|\n",
        "| single   | yes     |\n",
        "| divorced | no      |\n",
        "| married  | no      |\n",
        "\n",
        "...into something like this...\n",
        "\n",
        "| marital_single | marital_divorced | marital_married | housing_yes | housing_no |\n",
        "|----------------|------------------|-----------------|-------------|------------|\n",
        "| 1              | 0                | 0               | 1           | 0          |\n",
        "| 0              | 1                | 0               | 0           | 1          |\n",
        "| 0              | 0                | 1               | 0           | 1          |\n",
        "\n",
        "In this code cell we will also encode our label column by replacing 'yes' and 'no' with 1 and 0 respectively. We can do this by applying simple lambda/in-line function on the column."
      ]
    },
    {
      "cell_type": "code",
      "metadata": {
        "id": "Mp_cy8dCo-sL",
        "outputId": "7b24fcb7-408f-4f60-b99c-bc507848ad67",
        "colab": {
          "base_uri": "https://localhost:8080/",
          "height": 261
        }
      },
      "source": [
        "from sklearn.preprocessing import OneHotEncoder\n",
        "\n",
        "encoder = OneHotEncoder(sparse=False)\n",
        "cat_cols = ['job', 'marital', 'education', 'default', 'housing', 'loan', 'contact', 'month', 'poutcome']\n",
        "\n",
        "# Encode Categorical Data\n",
        "df_encoded = pd.DataFrame(encoder.fit_transform(df_bank_ready[cat_cols]))\n",
        "df_encoded.columns = encoder.get_feature_names(cat_cols)\n",
        "\n",
        "# Replace Categotical Data with Encoded Data\n",
        "df_bank_ready = df_bank_ready.drop(cat_cols ,axis=1)\n",
        "df_bank_ready = pd.concat([df_encoded, df_bank_ready], axis=1)\n",
        "\n",
        "# Encode target value\n",
        "df_bank_ready['deposit'] = df_bank_ready['deposit'].apply(lambda x: 1 if x == 'yes' else 0)\n",
        "\n",
        "print('Shape of dataframe:', df_bank_ready.shape)\n",
        "df_bank_ready.head()"
      ],
      "execution_count": 10,
      "outputs": [
        {
          "output_type": "stream",
          "text": [
            "Shape of dataframe: (11162, 51)\n"
          ],
          "name": "stdout"
        },
        {
          "output_type": "execute_result",
          "data": {
            "text/html": [
              "<div>\n",
              "<style scoped>\n",
              "    .dataframe tbody tr th:only-of-type {\n",
              "        vertical-align: middle;\n",
              "    }\n",
              "\n",
              "    .dataframe tbody tr th {\n",
              "        vertical-align: top;\n",
              "    }\n",
              "\n",
              "    .dataframe thead th {\n",
              "        text-align: right;\n",
              "    }\n",
              "</style>\n",
              "<table border=\"1\" class=\"dataframe\">\n",
              "  <thead>\n",
              "    <tr style=\"text-align: right;\">\n",
              "      <th></th>\n",
              "      <th>job_admin.</th>\n",
              "      <th>job_blue-collar</th>\n",
              "      <th>job_entrepreneur</th>\n",
              "      <th>job_housemaid</th>\n",
              "      <th>job_management</th>\n",
              "      <th>job_retired</th>\n",
              "      <th>job_self-employed</th>\n",
              "      <th>job_services</th>\n",
              "      <th>job_student</th>\n",
              "      <th>job_technician</th>\n",
              "      <th>job_unemployed</th>\n",
              "      <th>job_unknown</th>\n",
              "      <th>marital_divorced</th>\n",
              "      <th>marital_married</th>\n",
              "      <th>marital_single</th>\n",
              "      <th>education_primary</th>\n",
              "      <th>education_secondary</th>\n",
              "      <th>education_tertiary</th>\n",
              "      <th>education_unknown</th>\n",
              "      <th>default_no</th>\n",
              "      <th>default_yes</th>\n",
              "      <th>housing_no</th>\n",
              "      <th>housing_yes</th>\n",
              "      <th>loan_no</th>\n",
              "      <th>loan_yes</th>\n",
              "      <th>contact_cellular</th>\n",
              "      <th>contact_telephone</th>\n",
              "      <th>contact_unknown</th>\n",
              "      <th>month_apr</th>\n",
              "      <th>month_aug</th>\n",
              "      <th>month_dec</th>\n",
              "      <th>month_feb</th>\n",
              "      <th>month_jan</th>\n",
              "      <th>month_jul</th>\n",
              "      <th>month_jun</th>\n",
              "      <th>month_mar</th>\n",
              "      <th>month_may</th>\n",
              "      <th>month_nov</th>\n",
              "      <th>month_oct</th>\n",
              "      <th>month_sep</th>\n",
              "      <th>poutcome_failure</th>\n",
              "      <th>poutcome_other</th>\n",
              "      <th>poutcome_success</th>\n",
              "      <th>poutcome_unknown</th>\n",
              "      <th>age</th>\n",
              "      <th>balance</th>\n",
              "      <th>day</th>\n",
              "      <th>campaign</th>\n",
              "      <th>pdays</th>\n",
              "      <th>previous</th>\n",
              "      <th>deposit</th>\n",
              "    </tr>\n",
              "  </thead>\n",
              "  <tbody>\n",
              "    <tr>\n",
              "      <th>0</th>\n",
              "      <td>1.0</td>\n",
              "      <td>0.0</td>\n",
              "      <td>0.0</td>\n",
              "      <td>0.0</td>\n",
              "      <td>0.0</td>\n",
              "      <td>0.0</td>\n",
              "      <td>0.0</td>\n",
              "      <td>0.0</td>\n",
              "      <td>0.0</td>\n",
              "      <td>0.0</td>\n",
              "      <td>0.0</td>\n",
              "      <td>0.0</td>\n",
              "      <td>0.0</td>\n",
              "      <td>1.0</td>\n",
              "      <td>0.0</td>\n",
              "      <td>0.0</td>\n",
              "      <td>1.0</td>\n",
              "      <td>0.0</td>\n",
              "      <td>0.0</td>\n",
              "      <td>1.0</td>\n",
              "      <td>0.0</td>\n",
              "      <td>0.0</td>\n",
              "      <td>1.0</td>\n",
              "      <td>1.0</td>\n",
              "      <td>0.0</td>\n",
              "      <td>0.0</td>\n",
              "      <td>0.0</td>\n",
              "      <td>1.0</td>\n",
              "      <td>0.0</td>\n",
              "      <td>0.0</td>\n",
              "      <td>0.0</td>\n",
              "      <td>0.0</td>\n",
              "      <td>0.0</td>\n",
              "      <td>0.0</td>\n",
              "      <td>0.0</td>\n",
              "      <td>0.0</td>\n",
              "      <td>1.0</td>\n",
              "      <td>0.0</td>\n",
              "      <td>0.0</td>\n",
              "      <td>0.0</td>\n",
              "      <td>0.0</td>\n",
              "      <td>0.0</td>\n",
              "      <td>0.0</td>\n",
              "      <td>1.0</td>\n",
              "      <td>1.491505</td>\n",
              "      <td>0.252525</td>\n",
              "      <td>-1.265746</td>\n",
              "      <td>-0.554168</td>\n",
              "      <td>-0.481184</td>\n",
              "      <td>-0.36326</td>\n",
              "      <td>1</td>\n",
              "    </tr>\n",
              "    <tr>\n",
              "      <th>1</th>\n",
              "      <td>1.0</td>\n",
              "      <td>0.0</td>\n",
              "      <td>0.0</td>\n",
              "      <td>0.0</td>\n",
              "      <td>0.0</td>\n",
              "      <td>0.0</td>\n",
              "      <td>0.0</td>\n",
              "      <td>0.0</td>\n",
              "      <td>0.0</td>\n",
              "      <td>0.0</td>\n",
              "      <td>0.0</td>\n",
              "      <td>0.0</td>\n",
              "      <td>0.0</td>\n",
              "      <td>1.0</td>\n",
              "      <td>0.0</td>\n",
              "      <td>0.0</td>\n",
              "      <td>1.0</td>\n",
              "      <td>0.0</td>\n",
              "      <td>0.0</td>\n",
              "      <td>1.0</td>\n",
              "      <td>0.0</td>\n",
              "      <td>1.0</td>\n",
              "      <td>0.0</td>\n",
              "      <td>1.0</td>\n",
              "      <td>0.0</td>\n",
              "      <td>0.0</td>\n",
              "      <td>0.0</td>\n",
              "      <td>1.0</td>\n",
              "      <td>0.0</td>\n",
              "      <td>0.0</td>\n",
              "      <td>0.0</td>\n",
              "      <td>0.0</td>\n",
              "      <td>0.0</td>\n",
              "      <td>0.0</td>\n",
              "      <td>0.0</td>\n",
              "      <td>0.0</td>\n",
              "      <td>1.0</td>\n",
              "      <td>0.0</td>\n",
              "      <td>0.0</td>\n",
              "      <td>0.0</td>\n",
              "      <td>0.0</td>\n",
              "      <td>0.0</td>\n",
              "      <td>0.0</td>\n",
              "      <td>1.0</td>\n",
              "      <td>1.239676</td>\n",
              "      <td>-0.459974</td>\n",
              "      <td>-1.265746</td>\n",
              "      <td>-0.554168</td>\n",
              "      <td>-0.481184</td>\n",
              "      <td>-0.36326</td>\n",
              "      <td>1</td>\n",
              "    </tr>\n",
              "    <tr>\n",
              "      <th>2</th>\n",
              "      <td>0.0</td>\n",
              "      <td>0.0</td>\n",
              "      <td>0.0</td>\n",
              "      <td>0.0</td>\n",
              "      <td>0.0</td>\n",
              "      <td>0.0</td>\n",
              "      <td>0.0</td>\n",
              "      <td>0.0</td>\n",
              "      <td>0.0</td>\n",
              "      <td>1.0</td>\n",
              "      <td>0.0</td>\n",
              "      <td>0.0</td>\n",
              "      <td>0.0</td>\n",
              "      <td>1.0</td>\n",
              "      <td>0.0</td>\n",
              "      <td>0.0</td>\n",
              "      <td>1.0</td>\n",
              "      <td>0.0</td>\n",
              "      <td>0.0</td>\n",
              "      <td>1.0</td>\n",
              "      <td>0.0</td>\n",
              "      <td>0.0</td>\n",
              "      <td>1.0</td>\n",
              "      <td>1.0</td>\n",
              "      <td>0.0</td>\n",
              "      <td>0.0</td>\n",
              "      <td>0.0</td>\n",
              "      <td>1.0</td>\n",
              "      <td>0.0</td>\n",
              "      <td>0.0</td>\n",
              "      <td>0.0</td>\n",
              "      <td>0.0</td>\n",
              "      <td>0.0</td>\n",
              "      <td>0.0</td>\n",
              "      <td>0.0</td>\n",
              "      <td>0.0</td>\n",
              "      <td>1.0</td>\n",
              "      <td>0.0</td>\n",
              "      <td>0.0</td>\n",
              "      <td>0.0</td>\n",
              "      <td>0.0</td>\n",
              "      <td>0.0</td>\n",
              "      <td>0.0</td>\n",
              "      <td>1.0</td>\n",
              "      <td>-0.019470</td>\n",
              "      <td>-0.080160</td>\n",
              "      <td>-1.265746</td>\n",
              "      <td>-0.554168</td>\n",
              "      <td>-0.481184</td>\n",
              "      <td>-0.36326</td>\n",
              "      <td>1</td>\n",
              "    </tr>\n",
              "    <tr>\n",
              "      <th>3</th>\n",
              "      <td>0.0</td>\n",
              "      <td>0.0</td>\n",
              "      <td>0.0</td>\n",
              "      <td>0.0</td>\n",
              "      <td>0.0</td>\n",
              "      <td>0.0</td>\n",
              "      <td>0.0</td>\n",
              "      <td>1.0</td>\n",
              "      <td>0.0</td>\n",
              "      <td>0.0</td>\n",
              "      <td>0.0</td>\n",
              "      <td>0.0</td>\n",
              "      <td>0.0</td>\n",
              "      <td>1.0</td>\n",
              "      <td>0.0</td>\n",
              "      <td>0.0</td>\n",
              "      <td>1.0</td>\n",
              "      <td>0.0</td>\n",
              "      <td>0.0</td>\n",
              "      <td>1.0</td>\n",
              "      <td>0.0</td>\n",
              "      <td>0.0</td>\n",
              "      <td>1.0</td>\n",
              "      <td>1.0</td>\n",
              "      <td>0.0</td>\n",
              "      <td>0.0</td>\n",
              "      <td>0.0</td>\n",
              "      <td>1.0</td>\n",
              "      <td>0.0</td>\n",
              "      <td>0.0</td>\n",
              "      <td>0.0</td>\n",
              "      <td>0.0</td>\n",
              "      <td>0.0</td>\n",
              "      <td>0.0</td>\n",
              "      <td>0.0</td>\n",
              "      <td>0.0</td>\n",
              "      <td>1.0</td>\n",
              "      <td>0.0</td>\n",
              "      <td>0.0</td>\n",
              "      <td>0.0</td>\n",
              "      <td>0.0</td>\n",
              "      <td>0.0</td>\n",
              "      <td>0.0</td>\n",
              "      <td>1.0</td>\n",
              "      <td>1.155733</td>\n",
              "      <td>0.293762</td>\n",
              "      <td>-1.265746</td>\n",
              "      <td>-0.554168</td>\n",
              "      <td>-0.481184</td>\n",
              "      <td>-0.36326</td>\n",
              "      <td>1</td>\n",
              "    </tr>\n",
              "    <tr>\n",
              "      <th>4</th>\n",
              "      <td>1.0</td>\n",
              "      <td>0.0</td>\n",
              "      <td>0.0</td>\n",
              "      <td>0.0</td>\n",
              "      <td>0.0</td>\n",
              "      <td>0.0</td>\n",
              "      <td>0.0</td>\n",
              "      <td>0.0</td>\n",
              "      <td>0.0</td>\n",
              "      <td>0.0</td>\n",
              "      <td>0.0</td>\n",
              "      <td>0.0</td>\n",
              "      <td>0.0</td>\n",
              "      <td>1.0</td>\n",
              "      <td>0.0</td>\n",
              "      <td>0.0</td>\n",
              "      <td>0.0</td>\n",
              "      <td>1.0</td>\n",
              "      <td>0.0</td>\n",
              "      <td>1.0</td>\n",
              "      <td>0.0</td>\n",
              "      <td>1.0</td>\n",
              "      <td>0.0</td>\n",
              "      <td>1.0</td>\n",
              "      <td>0.0</td>\n",
              "      <td>0.0</td>\n",
              "      <td>0.0</td>\n",
              "      <td>1.0</td>\n",
              "      <td>0.0</td>\n",
              "      <td>0.0</td>\n",
              "      <td>0.0</td>\n",
              "      <td>0.0</td>\n",
              "      <td>0.0</td>\n",
              "      <td>0.0</td>\n",
              "      <td>0.0</td>\n",
              "      <td>0.0</td>\n",
              "      <td>1.0</td>\n",
              "      <td>0.0</td>\n",
              "      <td>0.0</td>\n",
              "      <td>0.0</td>\n",
              "      <td>0.0</td>\n",
              "      <td>0.0</td>\n",
              "      <td>0.0</td>\n",
              "      <td>1.0</td>\n",
              "      <td>1.071790</td>\n",
              "      <td>-0.416876</td>\n",
              "      <td>-1.265746</td>\n",
              "      <td>-0.186785</td>\n",
              "      <td>-0.481184</td>\n",
              "      <td>-0.36326</td>\n",
              "      <td>1</td>\n",
              "    </tr>\n",
              "  </tbody>\n",
              "</table>\n",
              "</div>"
            ],
            "text/plain": [
              "   job_admin.  job_blue-collar  job_entrepreneur  ...     pdays  previous  deposit\n",
              "0         1.0              0.0               0.0  ... -0.481184  -0.36326        1\n",
              "1         1.0              0.0               0.0  ... -0.481184  -0.36326        1\n",
              "2         0.0              0.0               0.0  ... -0.481184  -0.36326        1\n",
              "3         0.0              0.0               0.0  ... -0.481184  -0.36326        1\n",
              "4         1.0              0.0               0.0  ... -0.481184  -0.36326        1\n",
              "\n",
              "[5 rows x 51 columns]"
            ]
          },
          "metadata": {
            "tags": []
          },
          "execution_count": 10
        }
      ]
    },
    {
      "cell_type": "markdown",
      "metadata": {
        "id": "Xsl1BqVh8whF"
      },
      "source": [
        "## Split Dataset for Training and Testing\n",
        "\n",
        "To finish up our data pre-processing steps we will split our data into two dataset, training and testing. In this case because we have enough data we will split the data with ratio of 80:20 for training and testing respectively. This will result in our training data having 8929 rows and 2233 rows for the testing data."
      ]
    },
    {
      "cell_type": "code",
      "metadata": {
        "id": "a58WrxCd85tg",
        "outputId": "12c49cf1-cb5a-42b0-c63b-7c466755fc45",
        "colab": {
          "base_uri": "https://localhost:8080/"
        }
      },
      "source": [
        "# Select Features\n",
        "feature = df_bank_ready.drop('deposit', axis=1)\n",
        "\n",
        "# Select Target\n",
        "target = df_bank_ready['deposit']\n",
        "\n",
        "# Set Training and Testing Data\n",
        "from sklearn.model_selection import train_test_split\n",
        "X_train, X_test, y_train, y_test = train_test_split(feature , target, \n",
        "                                                    shuffle = True, \n",
        "                                                    test_size=0.2, \n",
        "                                                    random_state=1)\n",
        "\n",
        "# Show the Training and Testing Data\n",
        "print(X_train.shape)\n",
        "print(X_test.shape)\n",
        "print(y_train.shape)\n",
        "print(y_test.shape)"
      ],
      "execution_count": 11,
      "outputs": [
        {
          "output_type": "stream",
          "text": [
            "(8929, 50)\n",
            "(2233, 50)\n",
            "(8929,)\n",
            "(2233,)\n"
          ],
          "name": "stdout"
        }
      ]
    },
    {
      "cell_type": "markdown",
      "metadata": {
        "id": "LQ2dMsd099pF"
      },
      "source": [
        "# Modeling\n",
        "\n",
        "After making sure our data is good and ready we can continue to building our model. In this notebook we will try to build 4 different models with different algorithm. In this step we will create a baseline model for each algorithm using the default paramaeters set by sklearn and after building all 4 of our models we will compare them to see which works best for our case.\n",
        "\n",
        "To evaluate our model we will use the confusion matrix as our base for the evaluation.\n",
        "\n",
        "<div align='center'><img src='https://miro.medium.com/max/2102/1*fxiTNIgOyvAombPJx5KGeA.png' height='250'></div>\n",
        "where: TP = True Positive; FP = False Positive; TN = True Negative; FN = False Negative.\n",
        "\n",
        "We will use 6 metrics below to evaluate models:\n",
        "\n",
        "1. Accuracy: the proportion of true results among the total number of cases examined.\n",
        "<div align='center'>$Accuracy = \\frac{TP+TN}{TP+TN+FP+FN}$</div>\n",
        "2. Precision: used to calculate how much proportion of all data that was predicted positive **was** actually positive.\n",
        "<div align='center'>$Precision = \\frac{TP}{TP+FP}$</div>\n",
        "3. Recall: used to calculate how much proportion of actual positives is correctly classified.\n",
        "<div align='center'>$Recall = \\frac{TP}{TP+FN}$</div>\n",
        "4. F1 score: a number between 0 and 1 and is the harmonic mean of precision and recall.\n",
        "<div align='center'>$F1 = \\frac{2TP}{2TP+FP+FN}$</div>\n",
        "5. Cohen Kappa Score: Cohen's kappa measures the agreement between two raters who each classify N items into C mutually exclusive categories.\n",
        "<div align='center'>$\\kappa = \\frac{p_o-p_e}{1-p_e}$</div>\n",
        "    where $p_o$ is the empirical probability of agreement on the label assigned to any sample (the observed agreement ratio), and $p_e$ is the expected agreement when both annotators assign labels randomly. $p_e$ is estimated using a per-annotator empirical prior over the class labels.\n",
        "6. Area Under Curve (AUC): indicates how well the probabilities from the positive classes are separated from the negative classes\n",
        "\n",
        "In this case we want to focus on the recall value of our model because in our problem we should try to predict as many actual positive as we can. Because a misclassification of customer who **actually** wanted to make a deposit can mean a lose opportunity/revenue."
      ]
    },
    {
      "cell_type": "markdown",
      "metadata": {
        "id": "EaZF4K139-t2"
      },
      "source": [
        "## Decision Tree\n",
        "\n",
        "Decision tree is a tree shaped diagram used to determine a course of action. Each branch of the tree represents a possible decision, occurrence or reaction.\n",
        "\n",
        "<div align='center'><img src='https://raw.githubusercontent.com/rafiag/DTI2020/main/images/decision_tree.PNG' height='250'></div>\n",
        "\n",
        "Advantages:\n",
        "* Inexpensive to construct\n",
        "* Extremely fast at classifying unknown records\n",
        "* Easy to interpret for small-sized trees•\n",
        "* Accuracy is comparable to other classification techniques for many simple data sets\n",
        "\n",
        "Disadvantages:\n",
        "* Overfitting when algorithm capture noise in the data\n",
        "* The model can get unstable due to small variation of data\n",
        "* Low biased tree: difficult for the model to work with new data"
      ]
    },
    {
      "cell_type": "markdown",
      "metadata": {
        "id": "FKajNYts-Stx"
      },
      "source": [
        "### Building Model"
      ]
    },
    {
      "cell_type": "code",
      "metadata": {
        "id": "qYHlOT8S-YqX"
      },
      "source": [
        "from sklearn import tree\n",
        "\n",
        "# Building Decision Tree model \n",
        "dtc = tree.DecisionTreeClassifier(random_state=0)\n",
        "dtc.fit(X_train, y_train)\n",
        "\n",
        "# Predict to Test Data \n",
        "y_pred_dtc = dtc.predict(X_test)"
      ],
      "execution_count": 12,
      "outputs": []
    },
    {
      "cell_type": "markdown",
      "metadata": {
        "id": "ikx3CBJ6-W0y"
      },
      "source": [
        "### Model Evaluation"
      ]
    },
    {
      "cell_type": "code",
      "metadata": {
        "id": "erl76cIBBNnt",
        "outputId": "c591471c-1e13-4e51-b546-e2acf3f0ecc1",
        "colab": {
          "base_uri": "https://localhost:8080/"
        }
      },
      "source": [
        "from sklearn import metrics\n",
        "\n",
        "# Calculate accuracy, precision, recall, f1-score, and kappa score\n",
        "dtc_acc = metrics.accuracy_score(y_test, y_pred_dtc)\n",
        "dtc_prec = metrics.precision_score(y_test, y_pred_dtc)\n",
        "dtc_rec = metrics.recall_score(y_test, y_pred_dtc)\n",
        "dtc_f1 = metrics.f1_score(y_test, y_pred_dtc)\n",
        "dtc_kappa = metrics.cohen_kappa_score(y_test, y_pred_dtc)\n",
        "\n",
        "print('Accuracy:', dtc_acc)\n",
        "print('Precision:', dtc_prec)\n",
        "print('Recall:', dtc_rec)\n",
        "print('F1 Score:', dtc_f1)\n",
        "print('Cohens Kappa Score:', dtc_kappa)\n",
        "\n",
        "# Calculate area under curve (AUC)\n",
        "y_pred_dtc_proba = dtc.predict_proba(X_test)[::,1]\n",
        "dtc_fpr, dtc_tpr, _ = metrics.roc_curve(y_test,  y_pred_dtc_proba)\n",
        "dtc_auc = metrics.roc_auc_score(y_test, y_pred_dtc_proba)\n",
        "print('Area Under Curve:', dtc_auc)\n",
        "\n",
        "# Display confussion matrix\n",
        "dtc_cm = metrics.confusion_matrix(y_test, y_pred_dtc)\n",
        "print('Confusion Matrix:\\n', dtc_cm)"
      ],
      "execution_count": 13,
      "outputs": [
        {
          "output_type": "stream",
          "text": [
            "Accuracy: 0.6336766681594268\n",
            "Precision: 0.6215953307392996\n",
            "Recall: 0.598314606741573\n",
            "F1 Score: 0.6097328244274809\n",
            "Cohens Kappa Score: 0.2648219403033133\n",
            "Area Under Curve: 0.6322045136712157\n",
            "Confusion Matrix:\n",
            " [[776 389]\n",
            " [429 639]]\n"
          ],
          "name": "stdout"
        }
      ]
    },
    {
      "cell_type": "markdown",
      "metadata": {
        "id": "S31ZWX3MD9e-"
      },
      "source": [
        "## Random Forest\n",
        "\n",
        "Random forest or Random Decision Forest is a method that operates by constructing multiple decision trees during training phases. The decision of the majority of the trees is chosen as final decision.\n",
        "\n",
        "<div align='center'><img src='https://raw.githubusercontent.com/rafiag/DTI2020/main/images/random_forest.PNG' height='250'></div>\n",
        "\n",
        "Advantages:\n",
        "* It can be used for both regression and classification tasks and that it’s easy to view the relative importance it assigns to the input features.\n",
        "* It is also considered as a very handy and easy to use algorithm, because it’s default hyper-parameters often produce a good prediction result.\n",
        "\n",
        "Disadvantages:\n",
        "* Many trees can make the algorithm to slow and ineffective for real-time predictions. A more accurate prediction requires more trees, which results in a slower model.\n",
        "* It is a predictive modeling tool and not a descriptive tool."
      ]
    },
    {
      "cell_type": "markdown",
      "metadata": {
        "id": "yxGs5YZREDZd"
      },
      "source": [
        "### Building Model"
      ]
    },
    {
      "cell_type": "code",
      "metadata": {
        "id": "LPAcuhNVEDZh"
      },
      "source": [
        "from sklearn.ensemble import RandomForestClassifier\n",
        "\n",
        "# Building Random Forest model \n",
        "rf = RandomForestClassifier(random_state=0)\n",
        "rf.fit(X_train, y_train)\n",
        "\n",
        "# Predict to Test Data \n",
        "y_pred_rf = rf.predict(X_test)"
      ],
      "execution_count": 14,
      "outputs": []
    },
    {
      "cell_type": "markdown",
      "metadata": {
        "id": "_F3f_LTLEDZz"
      },
      "source": [
        "### Model Evaluation"
      ]
    },
    {
      "cell_type": "code",
      "metadata": {
        "id": "_0snoBoXEDZ5",
        "outputId": "b61e5ba2-76d4-424e-8a93-ecf8c40c1ce1",
        "colab": {
          "base_uri": "https://localhost:8080/"
        }
      },
      "source": [
        "# Calculate accuracy, precision, recall, f1-score, and kappa score\n",
        "rf_acc = metrics.accuracy_score(y_test, y_pred_rf)\n",
        "rf_prec = metrics.precision_score(y_test, y_pred_rf)\n",
        "rf_rec = metrics.recall_score(y_test, y_pred_rf)\n",
        "rf_f1 = metrics.f1_score(y_test, y_pred_rf)\n",
        "rf_kappa = metrics.cohen_kappa_score(y_test, y_pred_rf)\n",
        "\n",
        "print('Accuracy:', rf_acc)\n",
        "print('Precision:', rf_prec)\n",
        "print('Recall:', rf_rec)\n",
        "print('F1 Score:', rf_f1)\n",
        "print('Cohens Kappa Score:', rf_kappa)\n",
        "\n",
        "# Calculate area under curve (AUC)\n",
        "y_pred_rf_proba = rf.predict_proba(X_test)[::,1]\n",
        "rf_fpr, rf_tpr, _ = metrics.roc_curve(y_test,  y_pred_rf_proba)\n",
        "rf_auc = metrics.roc_auc_score(y_test, y_pred_rf_proba)\n",
        "print('Area Under Curve:', rf_auc)\n",
        "\n",
        "# Display confussion matrix\n",
        "rf_cm = metrics.confusion_matrix(y_test, y_pred_rf)\n",
        "print('Confusion Matrix:\\n', rf_cm)"
      ],
      "execution_count": 15,
      "outputs": [
        {
          "output_type": "stream",
          "text": [
            "Accuracy: 0.7205553067622034\n",
            "Precision: 0.7488789237668162\n",
            "Recall: 0.6254681647940075\n",
            "F1 Score: 0.6816326530612244\n",
            "Cohens Kappa Score: 0.43618595045335207\n",
            "Area Under Curve: 0.781940492838887\n",
            "Confusion Matrix:\n",
            " [[941 224]\n",
            " [400 668]]\n"
          ],
          "name": "stdout"
        }
      ]
    },
    {
      "cell_type": "markdown",
      "metadata": {
        "id": "Rw2_QuEwEid_"
      },
      "source": [
        "## Naive Bayes\n",
        "\n",
        "Naive Bayes is a simple technique for constructing classifiers: models that assign class labels to problem instances, represented as vectors of feature values, where the class labels are drawn from some finite set. There is not a single algorithm for training such classifiers, but a family of algorithms based on a common principle: all naive Bayes classifiers assume that the value of a particular feature is independent of the value of any other feature, given the class variable. Below are the Bayes theorem formula:\n",
        "\n",
        "<div align=\"center\">$P(C | A) = \\frac{P(A|C) P(C)}{P(A)}$</div>\n",
        "\n",
        "For example, given:\n",
        "* A doctor knows that meningitis  causes  stiff neck 50% of the time\n",
        "* Prior probability  of any patient  having  meningitis  is 1/50,000\n",
        "* Prior probability  of any patient  having  stiff neck is 1/20\n",
        "\n",
        "Then the probability of patient who have stiff neck to also have meningitis is:\n",
        "\n",
        "<div align=\"center\">$P(C | A) = \\frac{P(A|C) P(C)}{P(A)} = \\frac{0.5 * (1 / 50000)}{1 / 20} = 0.0002$</div>"
      ]
    },
    {
      "cell_type": "markdown",
      "metadata": {
        "id": "r6tOX8e2En_N"
      },
      "source": [
        "### Building Model"
      ]
    },
    {
      "cell_type": "code",
      "metadata": {
        "id": "uHZ4k5ArEn_R"
      },
      "source": [
        "from sklearn.naive_bayes import GaussianNB\n",
        "\n",
        "# Building Naive Bayes model \n",
        "nb = GaussianNB()\n",
        "nb.fit(X_train, y_train)\n",
        "\n",
        "# Predict to Test Data \n",
        "y_pred_nb = nb.predict(X_test)"
      ],
      "execution_count": 16,
      "outputs": []
    },
    {
      "cell_type": "markdown",
      "metadata": {
        "id": "k7R3M5N5En_l"
      },
      "source": [
        "### Model Evaluation"
      ]
    },
    {
      "cell_type": "code",
      "metadata": {
        "id": "1Q8OdubgEn_o",
        "outputId": "bc6da3af-df9b-44b4-a727-c999eace25c1",
        "colab": {
          "base_uri": "https://localhost:8080/"
        }
      },
      "source": [
        "# Calculate accuracy, precision, recall, f1-score, and kappa score\n",
        "nb_acc = metrics.accuracy_score(y_test, y_pred_nb)\n",
        "nb_prec = metrics.precision_score(y_test, y_pred_nb)\n",
        "nb_rec = metrics.recall_score(y_test, y_pred_nb)\n",
        "nb_f1 = metrics.f1_score(y_test, y_pred_nb)\n",
        "nb_kappa = metrics.cohen_kappa_score(y_test, y_pred_nb)\n",
        "\n",
        "print('Accuracy:', nb_acc)\n",
        "print('Precision:', nb_prec)\n",
        "print('Recall:', nb_rec)\n",
        "print('F1 Score:', nb_f1)\n",
        "print('Cohens Kappa Score:', nb_kappa)\n",
        "\n",
        "# Calculate area under curve (AUC)\n",
        "y_pred_nb_proba = nb.predict_proba(X_test)[::,1]\n",
        "nb_fpr, nb_tpr, _ = metrics.roc_curve(y_test,  y_pred_nb_proba)\n",
        "nb_auc = metrics.roc_auc_score(y_test, y_pred_nb_proba)\n",
        "print('Area Under Curve:', nb_auc)\n",
        "\n",
        "# Display confussion matrix\n",
        "nb_cm = metrics.confusion_matrix(y_test, y_pred_nb)\n",
        "print('Confusion Matrix:\\n', nb_cm)"
      ],
      "execution_count": 17,
      "outputs": [
        {
          "output_type": "stream",
          "text": [
            "Accuracy: 0.6815942678011644\n",
            "Precision: 0.7560975609756098\n",
            "Recall: 0.4934456928838951\n",
            "F1 Score: 0.5971671388101983\n",
            "Cohens Kappa Score: 0.352622455965517\n",
            "Area Under Curve: 0.7421999324878237\n",
            "Confusion Matrix:\n",
            " [[995 170]\n",
            " [541 527]]\n"
          ],
          "name": "stdout"
        }
      ]
    },
    {
      "cell_type": "markdown",
      "metadata": {
        "id": "c-ON4O9yIU55"
      },
      "source": [
        "## K-Nearest Neighbors\n",
        "\n",
        "K-Nearest Neighbors (KNN) classify new data by finding k-number of closest neighbor from the training data and then decide the class based on the majority of it's neighbors. For example in the image below where $k = 3$ majority of it's neighbor is classified as B, but when $k = 7$ the majority will changes to A.\n",
        "\n",
        "<div align='center'><img src='https://raw.githubusercontent.com/rafiag/DTI2020/main/images/knn.PNG' height='200'></div>\n",
        "\n",
        "Advantages:\n",
        "* Simple technique that is easily implemented\n",
        "* Building model is cheap\n",
        "* Extremely flexible classification scheme\n",
        "\n",
        "Disadvantages:\n",
        "* Classifying unknown records are relatively expensive\n",
        "* Requires distance computation of k-nearest neighbors\n",
        "* Computationally intensive, especially when the size of the training set grows\n",
        "* Accuracy can be severely degraded by the presence of noisy or irrelevant features"
      ]
    },
    {
      "cell_type": "markdown",
      "metadata": {
        "id": "Qj7xtqeyIwvp"
      },
      "source": [
        "### Building Model"
      ]
    },
    {
      "cell_type": "code",
      "metadata": {
        "id": "5o34E_b3Iwvu"
      },
      "source": [
        "from sklearn.neighbors import KNeighborsClassifier\n",
        "\n",
        "# Building KNN model \n",
        "knn = KNeighborsClassifier()\n",
        "knn.fit(X_train, y_train)\n",
        "\n",
        "# Predict to Test Data \n",
        "y_pred_knn = knn.predict(X_test)"
      ],
      "execution_count": 18,
      "outputs": []
    },
    {
      "cell_type": "markdown",
      "metadata": {
        "id": "KBMCWD1JIwv_"
      },
      "source": [
        "### Model Evaluation"
      ]
    },
    {
      "cell_type": "code",
      "metadata": {
        "id": "Cpch7H_nIwwC",
        "outputId": "eaddf9d3-31ab-48ff-ffdd-29129c0bccbe",
        "colab": {
          "base_uri": "https://localhost:8080/"
        }
      },
      "source": [
        "# Calculate accuracy, precision, recall, f1-score, and kappa score\n",
        "knn_acc = metrics.accuracy_score(y_test, y_pred_knn)\n",
        "knn_prec = metrics.precision_score(y_test, y_pred_knn)\n",
        "knn_rec = metrics.recall_score(y_test, y_pred_knn)\n",
        "knn_f1 = metrics.f1_score(y_test, y_pred_knn)\n",
        "knn_kappa = metrics.cohen_kappa_score(y_test, y_pred_knn)\n",
        "\n",
        "print('Accuracy:', knn_acc)\n",
        "print('Precision:', knn_prec)\n",
        "print('Recall:', knn_rec)\n",
        "print('F1 Score:', knn_f1)\n",
        "print('Cohens Kappa Score:', knn_kappa)\n",
        "\n",
        "# Calculate area under curve (AUC)\n",
        "y_pred_knn_proba = knn.predict_proba(X_test)[::,1]\n",
        "knn_fpr, knn_tpr, _ = metrics.roc_curve(y_test,  y_pred_knn_proba)\n",
        "knn_auc = metrics.roc_auc_score(y_test, y_pred_knn_proba)\n",
        "print('Area Under Curve:', knn_auc)\n",
        "\n",
        "# Display confussion matrix\n",
        "knn_cm = metrics.confusion_matrix(y_test, y_pred_knn)\n",
        "print('Confusion Matrix:\\n', knn_cm)"
      ],
      "execution_count": 19,
      "outputs": [
        {
          "output_type": "stream",
          "text": [
            "Accuracy: 0.6869682042095835\n",
            "Precision: 0.6981740064446831\n",
            "Recall: 0.6086142322097379\n",
            "F1 Score: 0.6503251625812906\n",
            "Cohens Kappa Score: 0.3693851405429406\n",
            "Area Under Curve: 0.7323909758724342\n",
            "Confusion Matrix:\n",
            " [[884 281]\n",
            " [418 650]]\n"
          ],
          "name": "stdout"
        }
      ]
    },
    {
      "cell_type": "markdown",
      "metadata": {
        "id": "q_SNuZfUJdQu"
      },
      "source": [
        "## Model Comparison\n",
        "\n",
        "After building all of our model, we can now compare how well each model perform. To do this we will create two chart, first is a grouped bar chart to display the value of accuracy, precision, recall, f1, and kappa score of our model, and second a line chart to show the AUC of all our models."
      ]
    },
    {
      "cell_type": "code",
      "metadata": {
        "id": "hqjMdAKVym3G",
        "outputId": "f98ced6c-dd27-47c5-b2b7-dbc8b303d588",
        "colab": {
          "base_uri": "https://localhost:8080/",
          "height": 493
        }
      },
      "source": [
        "# Intitialize figure with two plots\n",
        "fig, (ax1, ax2) = plt.subplots(1, 2)\n",
        "fig.suptitle('Model Comparison', fontsize=16, fontweight='bold')\n",
        "fig.set_figheight(7)\n",
        "fig.set_figwidth(14)\n",
        "fig.set_facecolor('white')\n",
        "\n",
        "# First plot\n",
        "## set bar size\n",
        "barWidth = 0.2\n",
        "dtc_score = [dtc_acc, dtc_prec, dtc_rec, dtc_f1, dtc_kappa]\n",
        "rf_score = [rf_acc, rf_prec, rf_rec, rf_f1, rf_kappa]\n",
        "nb_score = [nb_acc, nb_prec, nb_rec, nb_f1, nb_kappa]\n",
        "knn_score = [knn_acc, knn_prec, knn_rec, knn_f1, knn_kappa]\n",
        "\n",
        "## Set position of bar on X axis\n",
        "r1 = np.arange(len(dtc_score))\n",
        "r2 = [x + barWidth for x in r1]\n",
        "r3 = [x + barWidth for x in r2]\n",
        "r4 = [x + barWidth for x in r3]\n",
        "\n",
        "## Make the plot\n",
        "ax1.bar(r1, dtc_score, width=barWidth, edgecolor='white', label='Decision Tree')\n",
        "ax1.bar(r2, rf_score, width=barWidth, edgecolor='white', label='Random Forest')\n",
        "ax1.bar(r3, nb_score, width=barWidth, edgecolor='white', label='Naive Bayes')\n",
        "ax1.bar(r4, knn_score, width=barWidth, edgecolor='white', label='K-Nearest Neighbors')\n",
        "\n",
        "## Configure x and y axis\n",
        "ax1.set_xlabel('Metrics', fontweight='bold')\n",
        "labels = ['Accuracy', 'Precision', 'Recall', 'F1', 'Kappa']\n",
        "ax1.set_xticks([r + (barWidth * 1.5) for r in range(len(dtc_score))], )\n",
        "ax1.set_xticklabels(labels)\n",
        "ax1.set_ylabel('Score', fontweight='bold')\n",
        "ax1.set_ylim(0, 1)\n",
        "\n",
        "## Create legend & title\n",
        "ax1.set_title('Evaluation Metrics', fontsize=14, fontweight='bold')\n",
        "ax1.legend()\n",
        "\n",
        "# Second plot\n",
        "## Comparing ROC Curve\n",
        "ax2.plot(dtc_fpr, dtc_tpr, label='Decision Tree, auc = {:0.5f}'.format(dtc_auc))\n",
        "ax2.plot(rf_fpr, rf_tpr, label='Random Forest, auc = {:0.5f}'.format(rf_auc))\n",
        "ax2.plot(nb_fpr, nb_tpr, label='Naive Bayes, auc = {:0.5f}'.format(nb_auc))\n",
        "ax2.plot(knn_fpr, knn_tpr, label='K-Nearest Nieghbor, auc = {:0.5f}'.format(knn_auc))\n",
        "\n",
        "## Configure x and y axis\n",
        "ax2.set_xlabel('False Positive Rate', fontweight='bold')\n",
        "ax2.set_ylabel('True Positive Rate', fontweight='bold')\n",
        "\n",
        "## Create legend & title\n",
        "ax2.set_title('ROC Curve', fontsize=14, fontweight='bold')\n",
        "ax2.legend(loc=4)\n",
        "\n",
        "plt.show()"
      ],
      "execution_count": 22,
      "outputs": [
        {
          "output_type": "display_data",
          "data": {
            "image/png": "[encoded data removed]",
            "text/plain": [
              "<Figure size 1008x504 with 2 Axes>"
            ]
          },
          "metadata": {
            "tags": []
          }
        }
      ]
    },
    {
      "cell_type": "markdown",
      "metadata": {
        "id": "ywNzSSUFBL0F"
      },
      "source": [
        "Judging from the figures above we can see that our Random Forest model tops the other models in 5 of the 6 metrics we evaluate, except precision. So we can assume that Random Forest is the right choice to solve our problem."
      ]
    },
    {
      "cell_type": "markdown",
      "metadata": {
        "id": "ffBJzVwhJnES"
      },
      "source": [
        "# Model Optimization\n",
        "\n",
        "On the next part of this notebook, we will try to optimze our RandomForest model by tuning the hyperparamters available from the scikit-learn library. After finding the optimal parameters we will then evaluate our new model by comparing it against our base line model before."
      ]
    },
    {
      "cell_type": "markdown",
      "metadata": {
        "id": "4ONqwVhnpvYe"
      },
      "source": [
        "## Tuning Hyperparameter with GridSearchCV\n",
        "\n",
        "We will use `GridSearchCV` functionality from sklearn to find the optimal parameter for our model. We will provide our baseline model (named `rf_grids`), scoring method (in our case we will use recall as explained before), and also various parameters value we want to try with our model. The `GridSearchCV` function will then iterate through each parameters combination to find the best scoring parameters.\n",
        "\n",
        "This function also allow us to use cross validation to train our model, where on each iteration our data will be splitted into 5 (the number are adjustable from the parameter) fold. The models then will be trained on 4/5 fold of the data leaving the final fold as validation data, this process will be repeated for 5 times until all of our folds are used as validation data.\n",
        "\n",
        "<div align='center'><img src='https://i.imgur.com/9k60cVA.png' height='200'></div>\n",
        "\n",
        "To see the result of which parameters combination works best we can acces the `best_params_` attribute from our grid search object.\n",
        "\n",
        "*Note: The more combination provided, the longer the process will take. Alternatively, you can also try `RandomizedSearchCV` to only randomly select specified number of parameters which can result in faster running time.*"
      ]
    },
    {
      "cell_type": "code",
      "metadata": {
        "id": "9JNuJ9SeWjsq",
        "outputId": "29704940-302d-4043-c7c7-8620315e6e8c",
        "colab": {
          "base_uri": "https://localhost:8080/"
        }
      },
      "source": [
        "from sklearn.model_selection import GridSearchCV\n",
        "\n",
        "# Create the parameter grid based on the results of random search \n",
        "param_grid = {\n",
        "    'max_depth': [50, 80, 100],\n",
        "    'max_features': [2, 3, 4],\n",
        "    'min_samples_leaf': [3, 4, 5],\n",
        "    'min_samples_split': [8, 10, 12],\n",
        "    'n_estimators': [100, 300, 500, 750, 1000]\n",
        "}\n",
        "\n",
        "# Create a base model\n",
        "rf_grids = RandomForestClassifier(random_state=0)\n",
        "\n",
        "# Initiate the grid search model\n",
        "grid_search = GridSearchCV(estimator=rf_grids, param_grid=param_grid, scoring='recall',\n",
        "                           cv=5, n_jobs=-1, verbose=2)\n",
        "\n",
        "# Fit the grid search to the data\n",
        "grid_search.fit(X_train, y_train)\n",
        "\n",
        "grid_search.best_params_"
      ],
      "execution_count": 23,
      "outputs": [
        {
          "output_type": "stream",
          "text": [
            "Fitting 5 folds for each of 405 candidates, totalling 2025 fits\n"
          ],
          "name": "stdout"
        },
        {
          "output_type": "stream",
          "text": [
            "[Parallel(n_jobs=-1)]: Using backend LokyBackend with 2 concurrent workers.\n",
            "[Parallel(n_jobs=-1)]: Done  37 tasks      | elapsed:  1.0min\n",
            "[Parallel(n_jobs=-1)]: Done 158 tasks      | elapsed:  4.8min\n",
            "[Parallel(n_jobs=-1)]: Done 361 tasks      | elapsed: 11.8min\n",
            "[Parallel(n_jobs=-1)]: Done 644 tasks      | elapsed: 23.0min\n",
            "[Parallel(n_jobs=-1)]: Done 1009 tasks      | elapsed: 35.4min\n",
            "[Parallel(n_jobs=-1)]: Done 1454 tasks      | elapsed: 52.4min\n",
            "[Parallel(n_jobs=-1)]: Done 1981 tasks      | elapsed: 72.0min\n",
            "[Parallel(n_jobs=-1)]: Done 2025 out of 2025 | elapsed: 73.9min finished\n"
          ],
          "name": "stderr"
        },
        {
          "output_type": "execute_result",
          "data": {
            "text/plain": [
              "{'max_depth': 50,\n",
              " 'max_features': 4,\n",
              " 'min_samples_leaf': 3,\n",
              " 'min_samples_split': 10,\n",
              " 'n_estimators': 750}"
            ]
          },
          "metadata": {
            "tags": []
          },
          "execution_count": 23
        }
      ]
    },
    {
      "cell_type": "markdown",
      "metadata": {
        "id": "VtY5q3Dop_W_"
      },
      "source": [
        "## Evaluating Optimized Model\n",
        "\n",
        "After finding the best parameter for the model we can access the `best_estimator_` attribute of the GridSearchCV object to save our optimized model into variable called `best_grid`. We will calculate the 6 evaluation metrics to compare it with our base model on the next step."
      ]
    },
    {
      "cell_type": "code",
      "metadata": {
        "id": "A2tm9QvsnuwB"
      },
      "source": [
        "best_grid = grid_search.best_estimator_\n",
        "best_grid_pred = best_grid.predict(X_test)\n",
        "\n",
        "# Calculate accuracy, precision, recall, f1-score, and kappa score\n",
        "best_grid_acc = metrics.accuracy_score(y_test, best_grid_pred)\n",
        "best_grid_prec = metrics.precision_score(y_test, best_grid_pred)\n",
        "best_grid_rec = metrics.recall_score(y_test, best_grid_pred)\n",
        "best_grid_f1 = metrics.f1_score(y_test, best_grid_pred)\n",
        "best_grid_kappa = metrics.cohen_kappa_score(y_test, best_grid_pred)\n",
        "\n",
        "# Calculate area under curve (AUC)\n",
        "best_grid_pred_proba = best_grid.predict_proba(X_test)[::,1]\n",
        "best_grid_fpr, best_grid_tpr, _ = metrics.roc_curve(y_test,  best_grid_pred_proba)\n",
        "best_grid_auc = metrics.roc_auc_score(y_test, best_grid_pred_proba)"
      ],
      "execution_count": 24,
      "outputs": []
    },
    {
      "cell_type": "markdown",
      "metadata": {
        "id": "cvwaI0ysqCDU"
      },
      "source": [
        "## Model Comparison\n",
        "\n",
        "The code below will draw the same plot as before only with our original Random Forest model and it's optimized version. It will also print the change on each evaluation mterics to help us see if our optimized model work better than the original one."
      ]
    },
    {
      "cell_type": "code",
      "metadata": {
        "id": "0zN6-vaASeXX",
        "outputId": "7a0a08ec-1ba0-4217-e504-0211cf1f39ae",
        "colab": {
          "base_uri": "https://localhost:8080/",
          "height": 600
        }
      },
      "source": [
        "# Intitialize figure with two plots\n",
        "fig, (ax1, ax2) = plt.subplots(1, 2)\n",
        "fig.suptitle('Model Comparison', fontsize=16, fontweight='bold')\n",
        "fig.set_figheight(7)\n",
        "fig.set_figwidth(14)\n",
        "fig.set_facecolor('white')\n",
        "\n",
        "# First plot\n",
        "## set bar size\n",
        "barWidth = 0.2\n",
        "rf_score = [rf_acc, rf_prec, rf_rec, rf_f1, rf_kappa]\n",
        "best_grid_score = [best_grid_acc, best_grid_prec, best_grid_rec, best_grid_f1, best_grid_kappa]    \n",
        "\n",
        "## Set position of bar on X axis\n",
        "r1 = np.arange(len(rf_score))\n",
        "r2 = [x + barWidth for x in r1]\n",
        "\n",
        "## Make the plot\n",
        "ax1.bar(r1, rf_score, width=barWidth, edgecolor='white', label='Random Forest (Base Line)')\n",
        "ax1.bar(r2, best_grid_score, width=barWidth, edgecolor='white', label='Random Forest (Optimized)')\n",
        "\n",
        "## Add xticks on the middle of the group bars\n",
        "ax1.set_xlabel('Metrics', fontweight='bold')\n",
        "labels = ['Accuracy', 'Precision', 'Recall', 'F1', 'Kappa']\n",
        "ax1.set_xticks([r + (barWidth * 0.5) for r in range(len(dtc_score))], )\n",
        "ax1.set_xticklabels(labels)\n",
        "ax1.set_ylabel('Score', fontweight='bold')\n",
        "# ax1.set_ylim(0, 1)\n",
        "\n",
        "## Create legend & Show graphic\n",
        "ax1.set_title('Evaluation Metrics', fontsize=14, fontweight='bold')\n",
        "ax1.legend()\n",
        "\n",
        "# Second plot\n",
        "## Comparing ROC Curve\n",
        "ax2.plot(rf_fpr, rf_tpr, label='Random Forest (Base Line), auc = {:0.5f}'.format(dtc_auc))\n",
        "ax2.plot(best_grid_fpr, best_grid_tpr, label='Random Forest (Optimized), auc = {:0.5f}'.format(rf_auc))\n",
        "\n",
        "ax2.set_title('ROC Curve', fontsize=14, fontweight='bold')\n",
        "ax2.set_xlabel('False Positive Rate', fontweight='bold')\n",
        "ax2.set_ylabel('True Positive Rate', fontweight='bold')\n",
        "ax2.legend(loc=4)\n",
        "\n",
        "plt.show()\n",
        "\n",
        "print('Change of {:0.2f}% on accuracy.'.format(100 * (best_grid_acc - rf_acc) / rf_acc))\n",
        "print('Change of {:0.2f}% on precision.'.format(100 * (best_grid_prec - rf_prec) / rf_prec))\n",
        "print('Change of {:0.2f}% on recall.'.format(100 * (best_grid_rec - rf_rec) / rf_rec))\n",
        "print('Change of {:0.2f}% on F1 score.'.format(100 * (best_grid_f1 - rf_f1) / rf_f1))\n",
        "print('Change of {:0.2f}% on Kappa score.'.format(100 * (best_grid_kappa - rf_kappa) / rf_kappa))\n",
        "print('Change of {:0.2f}% on AUC.'.format(100 * (best_grid_auc - rf_auc) / rf_auc))"
      ],
      "execution_count": 26,
      "outputs": [
        {
          "output_type": "display_data",
          "data": {
            "image/png": "[encoded data removed]",
            "text/plain": [
              "<Figure size 1008x504 with 2 Axes>"
            ]
          },
          "metadata": {
            "tags": []
          }
        },
        {
          "output_type": "stream",
          "text": [
            "Change of 0.50% on accuracy.\n",
            "Change of 3.30% on precision.\n",
            "Change of -4.34% on recall.\n",
            "Change of -1.01% on F1 score.\n",
            "Change of 1.33% on Kappa score.\n",
            "Change of 0.83% on AUC.\n"
          ],
          "name": "stdout"
        }
      ]
    },
    {
      "cell_type": "markdown",
      "metadata": {
        "id": "ZsG6BmdvVbo1"
      },
      "source": [
        "The result show that our optimized performed little bit better than the original model. The optimized models show an increase in 4 out of the 6 metrics but perform worse in the other metrics, especially the recall with -4.34% decrease. Because we want to focus on predicting as many actual positive values as possible we should stick with our original model for the prediction because it has higher recall score."
      ]
    },
    {
      "cell_type": "markdown",
      "metadata": {
        "id": "s06YlIWtrFCV"
      },
      "source": [
        "# Output"
      ]
    },
    {
      "cell_type": "markdown",
      "metadata": {
        "id": "e_7PbTssz6xs"
      },
      "source": [
        "## Prediction\n",
        "\n",
        "In this step we will predict the expected outcome of all the row from our dataset then save it into a csv file for easier access in the future."
      ]
    },
    {
      "cell_type": "code",
      "metadata": {
        "id": "182pRuDqrTmR",
        "outputId": "6f384225-2461-4aed-fd39-1f9e08d8a5f0",
        "colab": {
          "base_uri": "https://localhost:8080/",
          "height": 383
        }
      },
      "source": [
        "df_bank['deposit_prediction'] = rf.predict(feature)\n",
        "df_bank['deposit_prediction'] = df_bank['deposit_prediction'].apply(lambda x: 'yes' if x==0 else 'no')\n",
        "\n",
        "# Save new dataframe into csv file\n",
        "df_bank.to_csv('deposit_prediction.csv', index=False)\n",
        "\n",
        "df_bank.head(10)"
      ],
      "execution_count": 27,
      "outputs": [
        {
          "output_type": "execute_result",
          "data": {
            "text/html": [
              "<div>\n",
              "<style scoped>\n",
              "    .dataframe tbody tr th:only-of-type {\n",
              "        vertical-align: middle;\n",
              "    }\n",
              "\n",
              "    .dataframe tbody tr th {\n",
              "        vertical-align: top;\n",
              "    }\n",
              "\n",
              "    .dataframe thead th {\n",
              "        text-align: right;\n",
              "    }\n",
              "</style>\n",
              "<table border=\"1\" class=\"dataframe\">\n",
              "  <thead>\n",
              "    <tr style=\"text-align: right;\">\n",
              "      <th></th>\n",
              "      <th>age</th>\n",
              "      <th>job</th>\n",
              "      <th>marital</th>\n",
              "      <th>education</th>\n",
              "      <th>default</th>\n",
              "      <th>balance</th>\n",
              "      <th>housing</th>\n",
              "      <th>loan</th>\n",
              "      <th>contact</th>\n",
              "      <th>day</th>\n",
              "      <th>month</th>\n",
              "      <th>campaign</th>\n",
              "      <th>pdays</th>\n",
              "      <th>previous</th>\n",
              "      <th>poutcome</th>\n",
              "      <th>deposit</th>\n",
              "      <th>deposit_prediction</th>\n",
              "    </tr>\n",
              "  </thead>\n",
              "  <tbody>\n",
              "    <tr>\n",
              "      <th>0</th>\n",
              "      <td>59</td>\n",
              "      <td>admin.</td>\n",
              "      <td>married</td>\n",
              "      <td>secondary</td>\n",
              "      <td>no</td>\n",
              "      <td>2343</td>\n",
              "      <td>yes</td>\n",
              "      <td>no</td>\n",
              "      <td>unknown</td>\n",
              "      <td>5</td>\n",
              "      <td>may</td>\n",
              "      <td>1</td>\n",
              "      <td>-1</td>\n",
              "      <td>0</td>\n",
              "      <td>unknown</td>\n",
              "      <td>yes</td>\n",
              "      <td>no</td>\n",
              "    </tr>\n",
              "    <tr>\n",
              "      <th>1</th>\n",
              "      <td>56</td>\n",
              "      <td>admin.</td>\n",
              "      <td>married</td>\n",
              "      <td>secondary</td>\n",
              "      <td>no</td>\n",
              "      <td>45</td>\n",
              "      <td>no</td>\n",
              "      <td>no</td>\n",
              "      <td>unknown</td>\n",
              "      <td>5</td>\n",
              "      <td>may</td>\n",
              "      <td>1</td>\n",
              "      <td>-1</td>\n",
              "      <td>0</td>\n",
              "      <td>unknown</td>\n",
              "      <td>yes</td>\n",
              "      <td>no</td>\n",
              "    </tr>\n",
              "    <tr>\n",
              "      <th>2</th>\n",
              "      <td>41</td>\n",
              "      <td>technician</td>\n",
              "      <td>married</td>\n",
              "      <td>secondary</td>\n",
              "      <td>no</td>\n",
              "      <td>1270</td>\n",
              "      <td>yes</td>\n",
              "      <td>no</td>\n",
              "      <td>unknown</td>\n",
              "      <td>5</td>\n",
              "      <td>may</td>\n",
              "      <td>1</td>\n",
              "      <td>-1</td>\n",
              "      <td>0</td>\n",
              "      <td>unknown</td>\n",
              "      <td>yes</td>\n",
              "      <td>no</td>\n",
              "    </tr>\n",
              "    <tr>\n",
              "      <th>3</th>\n",
              "      <td>55</td>\n",
              "      <td>services</td>\n",
              "      <td>married</td>\n",
              "      <td>secondary</td>\n",
              "      <td>no</td>\n",
              "      <td>2476</td>\n",
              "      <td>yes</td>\n",
              "      <td>no</td>\n",
              "      <td>unknown</td>\n",
              "      <td>5</td>\n",
              "      <td>may</td>\n",
              "      <td>1</td>\n",
              "      <td>-1</td>\n",
              "      <td>0</td>\n",
              "      <td>unknown</td>\n",
              "      <td>yes</td>\n",
              "      <td>no</td>\n",
              "    </tr>\n",
              "    <tr>\n",
              "      <th>4</th>\n",
              "      <td>54</td>\n",
              "      <td>admin.</td>\n",
              "      <td>married</td>\n",
              "      <td>tertiary</td>\n",
              "      <td>no</td>\n",
              "      <td>184</td>\n",
              "      <td>no</td>\n",
              "      <td>no</td>\n",
              "      <td>unknown</td>\n",
              "      <td>5</td>\n",
              "      <td>may</td>\n",
              "      <td>2</td>\n",
              "      <td>-1</td>\n",
              "      <td>0</td>\n",
              "      <td>unknown</td>\n",
              "      <td>yes</td>\n",
              "      <td>yes</td>\n",
              "    </tr>\n",
              "    <tr>\n",
              "      <th>5</th>\n",
              "      <td>42</td>\n",
              "      <td>management</td>\n",
              "      <td>single</td>\n",
              "      <td>tertiary</td>\n",
              "      <td>no</td>\n",
              "      <td>0</td>\n",
              "      <td>yes</td>\n",
              "      <td>yes</td>\n",
              "      <td>unknown</td>\n",
              "      <td>5</td>\n",
              "      <td>may</td>\n",
              "      <td>2</td>\n",
              "      <td>-1</td>\n",
              "      <td>0</td>\n",
              "      <td>unknown</td>\n",
              "      <td>yes</td>\n",
              "      <td>no</td>\n",
              "    </tr>\n",
              "    <tr>\n",
              "      <th>6</th>\n",
              "      <td>56</td>\n",
              "      <td>management</td>\n",
              "      <td>married</td>\n",
              "      <td>tertiary</td>\n",
              "      <td>no</td>\n",
              "      <td>830</td>\n",
              "      <td>yes</td>\n",
              "      <td>yes</td>\n",
              "      <td>unknown</td>\n",
              "      <td>6</td>\n",
              "      <td>may</td>\n",
              "      <td>1</td>\n",
              "      <td>-1</td>\n",
              "      <td>0</td>\n",
              "      <td>unknown</td>\n",
              "      <td>yes</td>\n",
              "      <td>yes</td>\n",
              "    </tr>\n",
              "    <tr>\n",
              "      <th>7</th>\n",
              "      <td>60</td>\n",
              "      <td>retired</td>\n",
              "      <td>divorced</td>\n",
              "      <td>secondary</td>\n",
              "      <td>no</td>\n",
              "      <td>545</td>\n",
              "      <td>yes</td>\n",
              "      <td>no</td>\n",
              "      <td>unknown</td>\n",
              "      <td>6</td>\n",
              "      <td>may</td>\n",
              "      <td>1</td>\n",
              "      <td>-1</td>\n",
              "      <td>0</td>\n",
              "      <td>unknown</td>\n",
              "      <td>yes</td>\n",
              "      <td>yes</td>\n",
              "    </tr>\n",
              "    <tr>\n",
              "      <th>8</th>\n",
              "      <td>37</td>\n",
              "      <td>technician</td>\n",
              "      <td>married</td>\n",
              "      <td>secondary</td>\n",
              "      <td>no</td>\n",
              "      <td>1</td>\n",
              "      <td>yes</td>\n",
              "      <td>no</td>\n",
              "      <td>unknown</td>\n",
              "      <td>6</td>\n",
              "      <td>may</td>\n",
              "      <td>1</td>\n",
              "      <td>-1</td>\n",
              "      <td>0</td>\n",
              "      <td>unknown</td>\n",
              "      <td>yes</td>\n",
              "      <td>no</td>\n",
              "    </tr>\n",
              "    <tr>\n",
              "      <th>9</th>\n",
              "      <td>28</td>\n",
              "      <td>services</td>\n",
              "      <td>single</td>\n",
              "      <td>secondary</td>\n",
              "      <td>no</td>\n",
              "      <td>5090</td>\n",
              "      <td>yes</td>\n",
              "      <td>no</td>\n",
              "      <td>unknown</td>\n",
              "      <td>6</td>\n",
              "      <td>may</td>\n",
              "      <td>3</td>\n",
              "      <td>-1</td>\n",
              "      <td>0</td>\n",
              "      <td>unknown</td>\n",
              "      <td>yes</td>\n",
              "      <td>no</td>\n",
              "    </tr>\n",
              "  </tbody>\n",
              "</table>\n",
              "</div>"
            ],
            "text/plain": [
              "   age         job   marital  ... poutcome deposit  deposit_prediction\n",
              "0   59      admin.   married  ...  unknown     yes                  no\n",
              "1   56      admin.   married  ...  unknown     yes                  no\n",
              "2   41  technician   married  ...  unknown     yes                  no\n",
              "3   55    services   married  ...  unknown     yes                  no\n",
              "4   54      admin.   married  ...  unknown     yes                 yes\n",
              "5   42  management    single  ...  unknown     yes                  no\n",
              "6   56  management   married  ...  unknown     yes                 yes\n",
              "7   60     retired  divorced  ...  unknown     yes                 yes\n",
              "8   37  technician   married  ...  unknown     yes                  no\n",
              "9   28    services    single  ...  unknown     yes                  no\n",
              "\n",
              "[10 rows x 17 columns]"
            ]
          },
          "metadata": {
            "tags": []
          },
          "execution_count": 27
        }
      ]
    },
    {
      "cell_type": "markdown",
      "metadata": {
        "id": "PKPXhoO2z9Yl"
      },
      "source": [
        "## Saving model\n",
        "\n",
        "We can also save our model for further model reusability. This model can then be loaded on another machine to make new prediction without doing the whole training process again."
      ]
    },
    {
      "cell_type": "code",
      "metadata": {
        "id": "pcr1pF4kz-s-",
        "outputId": "753147e1-b2f0-4a4e-9c5e-515fad91f722",
        "colab": {
          "base_uri": "https://localhost:8080/"
        }
      },
      "source": [
        "from joblib import dump, load\n",
        "\n",
        "# Saving model\n",
        "dump(rf, 'bank_deposit_classification.joblib')\n",
        "# Loading model\n",
        "# clf = load('bank_deposit_classification.joblib') "
      ],
      "execution_count": 28,
      "outputs": [
        {
          "output_type": "execute_result",
          "data": {
            "text/plain": [
              "['bank_deposit_classification.joblib']"
            ]
          },
          "metadata": {
            "tags": []
          },
          "execution_count": 28
        }
      ]
    },
    {
      "cell_type": "markdown",
      "metadata": {
        "id": "6f0M9vY6sh5C"
      },
      "source": [
        "# Conclusion\n",
        "\n",
        "For a simple model we can see that our model did decently on classifying the data. But there are still some weakness on our model, especially shown on the recall metric where we only get about 60%. This means that our model are only able to detect 60% of potential customer and miss the other 40%. The result is not that much different after optimizing the model using `GridSearchCV` which can means that we hit our limit with this model. To imporove our performance we can try to look into another algorithm such as `GradientBoostingClassifier`.\n",
        "\n",
        "# References\n",
        "\n",
        "1. Telkom Digital Talent Incubator - Data Scientist Module 5 (Classification)\n",
        "2. [Scikit-learn Documentation](https://scikit-learn.org/stable/index.html)\n",
        "3. [The 5 Classification Evaluation metrics every Data Scientist must know](https://towardsdatascience.com/the-5-classification-evaluation-metrics-you-must-know-aa97784ff226)\n",
        "4. [The Python Graph Gallery - Grouped Bar Plot](https://python-graph-gallery.com/11-grouped-barplot/)"
      ]
    }
  ]
}