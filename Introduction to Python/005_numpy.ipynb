{
  "nbformat": 4,
  "nbformat_minor": 0,
  "metadata": {
    "colab": {
      "name": "005_numpy.ipynb",
      "provenance": [],
      "collapsed_sections": [],
      "include_colab_link": true
    },
    "kernelspec": {
      "name": "python3",
      "display_name": "Python 3"
    }
  },
  "cells": [
    {
      "cell_type": "markdown",
      "metadata": {
        "id": "view-in-github",
        "colab_type": "text"
      },
      "source": [
        "<a href=\"https://colab.research.google.com/github/rafiag/DTI2020/blob/master/Introduction%20to%20Python/005_numpy.ipynb\" target=\"_parent\"><img src=\"https://colab.research.google.com/assets/colab-badge.svg\" alt=\"Open In Colab\"/></a>"
      ]
    },
    {
      "cell_type": "markdown",
      "metadata": {
        "id": "K62nVPYYwPRt"
      },
      "source": [
        "*Research Center Digital Business Ecosystem - Telkom University*\n",
        "\n",
        "\n",
        "---\n",
        "\n"
      ]
    },
    {
      "cell_type": "markdown",
      "metadata": {
        "id": "0lv5orlUufRY"
      },
      "source": [
        "# **Numpy**\n",
        "Numpy is a general-purpose array-processing package. It provides a high-performance multidimensional array object, and tools for working with these arrays. It is the fundamental package for scientific computing with Python."
      ]
    },
    {
      "cell_type": "code",
      "metadata": {
        "id": "U61Eo_hv6K6c"
      },
      "source": [
        "# Import Numpy\n",
        "import numpy as np"
      ],
      "execution_count": 1,
      "outputs": []
    },
    {
      "cell_type": "markdown",
      "metadata": {
        "id": "4RbjRwPT2Ncu"
      },
      "source": [
        "## **Arrays in Numpy**\n",
        "Array in Numpy is a table of elements (usually numbers), all of the same type, indexed by a tuple of positive integers. In Numpy, number of dimensions of the array is called rank of the array.A tuple of integers giving the size of the array along each dimension is known as shape of the array. An array class in Numpy is called as ndarray. "
      ]
    },
    {
      "cell_type": "markdown",
      "metadata": {
        "id": "39dDMkMG6TEp"
      },
      "source": [
        "### **Creating a Numpy Array**"
      ]
    },
    {
      "cell_type": "code",
      "metadata": {
        "id": "94wGZtao6aEN",
        "outputId": "738eaee1-4196-4e1f-abd7-0c2e78743571",
        "colab": {
          "base_uri": "https://localhost:8080/",
          "height": 53
        }
      },
      "source": [
        "# Creating a rank 1 Array\n",
        "arr = np.array([1, 2, 3])\n",
        "print(\"Array with Rank 1: \\n\",arr)"
      ],
      "execution_count": 2,
      "outputs": [
        {
          "output_type": "stream",
          "text": [
            "Array with Rank 1: \n",
            " [1 2 3]\n"
          ],
          "name": "stdout"
        }
      ]
    },
    {
      "cell_type": "code",
      "metadata": {
        "id": "uHsfkGTk6bFg",
        "outputId": "509a5bbd-d149-4816-d0ed-9b7cc2ccd062",
        "colab": {
          "base_uri": "https://localhost:8080/",
          "height": 71
        }
      },
      "source": [
        "# Creating a rank 2 Array\n",
        "arr = np.array([[1, 2, 3],\n",
        "                [4, 5, 6]])\n",
        "print(\"Array with Rank 2: \\n\", arr)"
      ],
      "execution_count": 3,
      "outputs": [
        {
          "output_type": "stream",
          "text": [
            "Array with Rank 2: \n",
            " [[1 2 3]\n",
            " [4 5 6]]\n"
          ],
          "name": "stdout"
        }
      ]
    },
    {
      "cell_type": "code",
      "metadata": {
        "id": "DOy5HRaw6dio",
        "outputId": "19ce7838-b7c7-4044-d5ef-941e3de15025",
        "colab": {
          "base_uri": "https://localhost:8080/",
          "height": 71
        }
      },
      "source": [
        "# Creating an array from tuple\n",
        "arr = np.array((1, 3, 2))\n",
        "print(\"\\nArray created using \"\n",
        "      \"passed tuple:\\n\", arr)"
      ],
      "execution_count": 4,
      "outputs": [
        {
          "output_type": "stream",
          "text": [
            "\n",
            "Array created using passed tuple:\n",
            " [1 3 2]\n"
          ],
          "name": "stdout"
        }
      ]
    },
    {
      "cell_type": "markdown",
      "metadata": {
        "id": "DGeYunaH6vpw"
      },
      "source": [
        "### **Accessing the array Index**"
      ]
    },
    {
      "cell_type": "code",
      "metadata": {
        "id": "O-TBadre67SX",
        "outputId": "2d41057e-6750-4a40-cf36-8ae91df183d5",
        "colab": {
          "base_uri": "https://localhost:8080/",
          "height": 106
        }
      },
      "source": [
        "# Initial Array\n",
        "arr = np.array([[-1, 2, 0, 4],\n",
        "                [4, -0.5, 6, 0],\n",
        "                [2.6, 0, 7, 8],\n",
        "                [3, -7, 4, 2.0]])\n",
        "print(\"Initial Array: \")\n",
        "print(arr)"
      ],
      "execution_count": 5,
      "outputs": [
        {
          "output_type": "stream",
          "text": [
            "Initial Array: \n",
            "[[-1.   2.   0.   4. ]\n",
            " [ 4.  -0.5  6.   0. ]\n",
            " [ 2.6  0.   7.   8. ]\n",
            " [ 3.  -7.   4.   2. ]]\n"
          ],
          "name": "stdout"
        }
      ]
    },
    {
      "cell_type": "code",
      "metadata": {
        "id": "zhRYO4oj7zys",
        "outputId": "70bb5c52-324b-48af-ed6b-416e465c75c1",
        "colab": {
          "base_uri": "https://localhost:8080/",
          "height": 71
        }
      },
      "source": [
        "# Printing a range of Array\n",
        "# with the use of slicing method\n",
        "sliced_arr = arr[:2, ::2]\n",
        "print (\"Array with first 2 rows and\"\n",
        "    \" alternate columns(0 and 2):\\n\", sliced_arr)"
      ],
      "execution_count": 6,
      "outputs": [
        {
          "output_type": "stream",
          "text": [
            "Array with first 2 rows and alternate columns(0 and 2):\n",
            " [[-1.  0.]\n",
            " [ 4.  6.]]\n"
          ],
          "name": "stdout"
        }
      ]
    },
    {
      "cell_type": "code",
      "metadata": {
        "id": "ga9jk_QB717c",
        "outputId": "140e2287-33ee-4cfc-9eb6-171a24a25267",
        "colab": {
          "base_uri": "https://localhost:8080/",
          "height": 71
        }
      },
      "source": [
        "# Printing elements at\n",
        "# specific Indices\n",
        "Index_arr = arr[[1, 1, 0, 3], \n",
        "                [3, 2, 1, 0]]\n",
        "print (\"\\nElements at indices (1, 3), \"\n",
        "    \"(1, 2), (0, 1), (3, 0):\\n\", Index_arr)"
      ],
      "execution_count": 7,
      "outputs": [
        {
          "output_type": "stream",
          "text": [
            "\n",
            "Elements at indices (1, 3), (1, 2), (0, 1), (3, 0):\n",
            " [0. 6. 2. 3.]\n"
          ],
          "name": "stdout"
        }
      ]
    },
    {
      "cell_type": "markdown",
      "metadata": {
        "id": "7IorDNGf6wY2"
      },
      "source": [
        "### **Basic Array Operations**"
      ]
    },
    {
      "cell_type": "code",
      "metadata": {
        "id": "uNKOD7F26oWE"
      },
      "source": [
        "# Defining Array 1\n",
        "a = np.array([[1, 2],\n",
        "              [3, 4]])\n",
        " \n",
        "# Defining Array 2\n",
        "b = np.array([[4, 3],\n",
        "              [2, 1]])"
      ],
      "execution_count": 8,
      "outputs": []
    },
    {
      "cell_type": "code",
      "metadata": {
        "id": "BpPXmRjT77w1",
        "outputId": "e1c43cf4-907b-4331-b918-9300de2784f7",
        "colab": {
          "base_uri": "https://localhost:8080/",
          "height": 53
        }
      },
      "source": [
        "# Adding 1 to every element\n",
        "print (\"Adding 1 to every element:\", a + 1)"
      ],
      "execution_count": 9,
      "outputs": [
        {
          "output_type": "stream",
          "text": [
            "Adding 1 to every element: [[2 3]\n",
            " [4 5]]\n"
          ],
          "name": "stdout"
        }
      ]
    },
    {
      "cell_type": "code",
      "metadata": {
        "id": "b63F7tE5794o",
        "outputId": "415ed392-ac88-417c-f66b-875044ffcb04",
        "colab": {
          "base_uri": "https://localhost:8080/",
          "height": 71
        }
      },
      "source": [
        "# Subtracting 2 from each element\n",
        "print (\"\\nSubtracting 2 from each element:\", b - 2)"
      ],
      "execution_count": 10,
      "outputs": [
        {
          "output_type": "stream",
          "text": [
            "\n",
            "Subtracting 2 from each element: [[ 2  1]\n",
            " [ 0 -1]]\n"
          ],
          "name": "stdout"
        }
      ]
    },
    {
      "cell_type": "code",
      "metadata": {
        "id": "h-qQWfjX7_o6",
        "outputId": "63934bb5-e314-44f6-b935-bab2735cc8c5",
        "colab": {
          "base_uri": "https://localhost:8080/",
          "height": 53
        }
      },
      "source": [
        "# sum of array elements\n",
        "# Performing Unary operations\n",
        "print (\"\\nSum of all array \"\n",
        "       \"elements: \", a.sum())"
      ],
      "execution_count": 11,
      "outputs": [
        {
          "output_type": "stream",
          "text": [
            "\n",
            "Sum of all array elements:  10\n"
          ],
          "name": "stdout"
        }
      ]
    },
    {
      "cell_type": "code",
      "metadata": {
        "id": "0rEhy1oQ8BSM",
        "outputId": "c721db6f-eb69-4de4-b9b8-aa229aa19ae4",
        "colab": {
          "base_uri": "https://localhost:8080/",
          "height": 88
        }
      },
      "source": [
        "# Adding two arrays\n",
        "# Performing Binary operations\n",
        "print (\"\\nArray sum:\\n\", a + b)"
      ],
      "execution_count": 12,
      "outputs": [
        {
          "output_type": "stream",
          "text": [
            "\n",
            "Array sum:\n",
            " [[5 5]\n",
            " [5 5]]\n"
          ],
          "name": "stdout"
        }
      ]
    },
    {
      "cell_type": "markdown",
      "metadata": {
        "id": "LsvLeKZ26_tO"
      },
      "source": [
        "## **Data Types in Numpy**\n",
        "Every Numpy array is a table of elements (usually numbers), all of the same type, indexed by a tuple of positive integers. Every ndarray has an associated data type (dtype) object. This data type object (dtype) provides information about the layout of the array. "
      ]
    },
    {
      "cell_type": "markdown",
      "metadata": {
        "id": "R-lp7ORa7INQ"
      },
      "source": [
        "### **Constructing a Datatype Object**\n",
        "In Numpy, datatypes of Arrays need not to be defined unless a specific datatype is required. Numpy tries to guess the datatype for Arrays which are not predefined in the constructor function."
      ]
    },
    {
      "cell_type": "code",
      "metadata": {
        "id": "4Qj10hSY7EMj",
        "outputId": "eb6ff89b-99b5-4594-b397-d7e3ce59b9f7",
        "colab": {
          "base_uri": "https://localhost:8080/",
          "height": 53
        }
      },
      "source": [
        "# Integer datatype\n",
        "# guessed by Numpy\n",
        "x = np.array([1, 2])  \n",
        "print(\"Integer Datatype: \")\n",
        "print(x.dtype)         "
      ],
      "execution_count": 13,
      "outputs": [
        {
          "output_type": "stream",
          "text": [
            "Integer Datatype: \n",
            "int64\n"
          ],
          "name": "stdout"
        }
      ]
    },
    {
      "cell_type": "code",
      "metadata": {
        "id": "f5olw3FF7Qot",
        "outputId": "549ee27f-3ac6-4cb3-fa00-3623df9ece19",
        "colab": {
          "base_uri": "https://localhost:8080/",
          "height": 71
        }
      },
      "source": [
        " # Float datatype\n",
        "# guessed by Numpy\n",
        "x = np.array([1.0, 2.0]) \n",
        "print(\"\\nFloat Datatype: \")\n",
        "print(x.dtype)  "
      ],
      "execution_count": 14,
      "outputs": [
        {
          "output_type": "stream",
          "text": [
            "\n",
            "Float Datatype: \n",
            "float64\n"
          ],
          "name": "stdout"
        }
      ]
    },
    {
      "cell_type": "code",
      "metadata": {
        "id": "UD9kFfTc7SjE",
        "outputId": "2fd03716-06ad-44e3-9ccd-6d315475b937",
        "colab": {
          "base_uri": "https://localhost:8080/",
          "height": 71
        }
      },
      "source": [
        "# Forced Datatype\n",
        "x = np.array([1, 2], dtype = np.int64)   \n",
        "print(\"\\nForcing a Datatype: \")\n",
        "print(x.dtype)"
      ],
      "execution_count": 15,
      "outputs": [
        {
          "output_type": "stream",
          "text": [
            "\n",
            "Forcing a Datatype: \n",
            "int64\n"
          ],
          "name": "stdout"
        }
      ]
    },
    {
      "cell_type": "markdown",
      "metadata": {
        "id": "XXRmz9AY7ili"
      },
      "source": [
        "### **Math Operations on DataType array**\n",
        "In Numpy arrays, basic mathematical operations are performed element-wise on the array. These operations are applied both as operator overloads and as functions. Many useful functions are provided in Numpy for performing computations on Arrays such as sum: for addition of Array elements, T: for Transpose of elements, etc."
      ]
    },
    {
      "cell_type": "code",
      "metadata": {
        "id": "V3ydlDBp7rRl"
      },
      "source": [
        "# First Array\n",
        "arr1 = np.array([[4, 7], [2, 6]], \n",
        "                 dtype = np.float64)\n",
        "                  \n",
        "# Second Array\n",
        "arr2 = np.array([[3, 6], [2, 8]], \n",
        "                 dtype = np.float64)"
      ],
      "execution_count": 16,
      "outputs": []
    },
    {
      "cell_type": "code",
      "metadata": {
        "id": "LNab7yLw7s2S",
        "outputId": "e5c3e30a-c382-44a0-8686-3f0a201abd3b",
        "colab": {
          "base_uri": "https://localhost:8080/",
          "height": 71
        }
      },
      "source": [
        "# Addition of two Arrays\n",
        "Sum = np.add(arr1, arr2)\n",
        "print(\"Addition of Two Arrays: \")\n",
        "print(Sum)"
      ],
      "execution_count": 17,
      "outputs": [
        {
          "output_type": "stream",
          "text": [
            "Addition of Two Arrays: \n",
            "[[ 7. 13.]\n",
            " [ 4. 14.]]\n"
          ],
          "name": "stdout"
        }
      ]
    },
    {
      "cell_type": "code",
      "metadata": {
        "id": "YtjWvenR7t3e",
        "outputId": "3e0dd619-cad3-4a81-ac48-cf4ca11fce63",
        "colab": {
          "base_uri": "https://localhost:8080/",
          "height": 71
        }
      },
      "source": [
        "# Addition of all Array elements\n",
        "# using predefined sum method\n",
        "Sum1 = np.sum(arr1)\n",
        "print(\"\\nAddition of Array elements: \")\n",
        "print(Sum1)"
      ],
      "execution_count": 18,
      "outputs": [
        {
          "output_type": "stream",
          "text": [
            "\n",
            "Addition of Array elements: \n",
            "19.0\n"
          ],
          "name": "stdout"
        }
      ]
    },
    {
      "cell_type": "code",
      "metadata": {
        "id": "d02rTzAP7vD5",
        "outputId": "1e4933bb-ee05-4697-8082-d4dabce90714",
        "colab": {
          "base_uri": "https://localhost:8080/",
          "height": 88
        }
      },
      "source": [
        "# Square root of Array\n",
        "Sqrt = np.sqrt(arr1)\n",
        "print(\"\\nSquare root of Array1 elements: \")\n",
        "print(Sqrt)"
      ],
      "execution_count": 19,
      "outputs": [
        {
          "output_type": "stream",
          "text": [
            "\n",
            "Square root of Array1 elements: \n",
            "[[2.         2.64575131]\n",
            " [1.41421356 2.44948974]]\n"
          ],
          "name": "stdout"
        }
      ]
    },
    {
      "cell_type": "code",
      "metadata": {
        "id": "TxhOMW2z7v_4",
        "outputId": "c62d7c15-b6a5-48b1-e257-3f043660c770",
        "colab": {
          "base_uri": "https://localhost:8080/",
          "height": 88
        }
      },
      "source": [
        "# Transpose of Array\n",
        "# using In-built function 'T'\n",
        "Trans_arr = arr1.T\n",
        "print(\"\\nTranspose of Array: \")\n",
        "print(Trans_arr)"
      ],
      "execution_count": 20,
      "outputs": [
        {
          "output_type": "stream",
          "text": [
            "\n",
            "Transpose of Array: \n",
            "[[4. 2.]\n",
            " [7. 6.]]\n"
          ],
          "name": "stdout"
        }
      ]
    }
  ]
}